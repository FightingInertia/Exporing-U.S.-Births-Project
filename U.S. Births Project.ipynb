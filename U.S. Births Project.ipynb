{
 "cells": [
  {
   "cell_type": "markdown",
   "metadata": {},
   "source": [
    "# Exploring U.S. Births Project"
   ]
  },
  {
   "cell_type": "markdown",
   "metadata": {},
   "source": [
    "### Checking directory for files"
   ]
  },
  {
   "cell_type": "code",
   "execution_count": 1,
   "metadata": {
    "collapsed": true
   },
   "outputs": [],
   "source": [
    "import matplotlib.pyplot as plt\n",
    "%matplotlib inline"
   ]
  },
  {
   "cell_type": "code",
   "execution_count": 2,
   "metadata": {},
   "outputs": [
    {
     "name": "stdout",
     "output_type": "stream",
     "text": [
      "\u001b[1m\u001b[32mBasics.ipynb\u001b[m\u001b[m                     \u001b[1m\u001b[32mUS_births_1994-2003_CDC_NCHS.csv\u001b[m\u001b[m\r\n",
      "Births.ipynb                     \u001b[1m\u001b[32mUS_births_2000-2014_SSA.csv\u001b[m\u001b[m\r\n",
      "README.md                        Untitled.ipynb\r\n",
      "U.S. Births Project.ipynb\r\n"
     ]
    }
   ],
   "source": [
    "!ls"
   ]
  },
  {
   "cell_type": "markdown",
   "metadata": {},
   "source": [
    "### Reading US Births File in as a String To Data Variable"
   ]
  },
  {
   "cell_type": "code",
   "execution_count": 3,
   "metadata": {
    "collapsed": true
   },
   "outputs": [],
   "source": [
    "f = open('US_births_1994-2003_CDC_NCHS.csv', 'r')"
   ]
  },
  {
   "cell_type": "code",
   "execution_count": 4,
   "metadata": {
    "collapsed": true
   },
   "outputs": [],
   "source": [
    "data = f.read()"
   ]
  },
  {
   "cell_type": "code",
   "execution_count": 5,
   "metadata": {},
   "outputs": [
    {
     "data": {
      "text/plain": [
       "'year,month,date_of_month,day_of_week,births\\r1994,1,1,6,8096\\r1994,1,2,7,7772\\r1994,1,3,1,10142\\r1994,1,'"
      ]
     },
     "execution_count": 5,
     "metadata": {},
     "output_type": "execute_result"
    }
   ],
   "source": [
    "data[0:100]"
   ]
  },
  {
   "cell_type": "markdown",
   "metadata": {},
   "source": [
    "### Splitting Data String on New Line Character '\\n' or '\\r'"
   ]
  },
  {
   "cell_type": "code",
   "execution_count": 6,
   "metadata": {
    "collapsed": true
   },
   "outputs": [],
   "source": [
    "data = data.split('\\r')"
   ]
  },
  {
   "cell_type": "markdown",
   "metadata": {},
   "source": [
    "### The Columns in this Data Set are Year, Month, Day of Month, Day of Week, and Births"
   ]
  },
  {
   "cell_type": "markdown",
   "metadata": {},
   "source": [
    "### Displaying First Few Lines of Data"
   ]
  },
  {
   "cell_type": "code",
   "execution_count": 7,
   "metadata": {},
   "outputs": [
    {
     "data": {
      "text/plain": [
       "['year,month,date_of_month,day_of_week,births',\n",
       " '1994,1,1,6,8096',\n",
       " '1994,1,2,7,7772',\n",
       " '1994,1,3,1,10142',\n",
       " '1994,1,4,2,11248']"
      ]
     },
     "execution_count": 7,
     "metadata": {},
     "output_type": "execute_result"
    }
   ],
   "source": [
    "data[0:5]"
   ]
  },
  {
   "cell_type": "markdown",
   "metadata": {},
   "source": [
    "### Removing the Header Row"
   ]
  },
  {
   "cell_type": "code",
   "execution_count": 8,
   "metadata": {
    "collapsed": true
   },
   "outputs": [],
   "source": [
    "data = data[1:]"
   ]
  },
  {
   "cell_type": "markdown",
   "metadata": {},
   "source": [
    "### Displaying Data without the Header"
   ]
  },
  {
   "cell_type": "code",
   "execution_count": 9,
   "metadata": {},
   "outputs": [
    {
     "data": {
      "text/plain": [
       "['1994,1,1,6,8096',\n",
       " '1994,1,2,7,7772',\n",
       " '1994,1,3,1,10142',\n",
       " '1994,1,4,2,11248',\n",
       " '1994,1,5,3,11053']"
      ]
     },
     "execution_count": 9,
     "metadata": {},
     "output_type": "execute_result"
    }
   ],
   "source": [
    "data[0:5]"
   ]
  },
  {
   "cell_type": "markdown",
   "metadata": {},
   "source": [
    "### Initializing an Empty List"
   ]
  },
  {
   "cell_type": "code",
   "execution_count": 10,
   "metadata": {
    "collapsed": true
   },
   "outputs": [],
   "source": [
    "final_data = []                        ### Initializing an empty list to contain all rows from data as integers"
   ]
  },
  {
   "cell_type": "markdown",
   "metadata": {},
   "source": [
    "### Splitting Rows into Integer Column Data Using For Loop, the .split and .append Commands"
   ]
  },
  {
   "cell_type": "code",
   "execution_count": 11,
   "metadata": {
    "collapsed": true
   },
   "outputs": [],
   "source": [
    "for row in data:                       ### Looping through rows of data\n",
    "    string_fields = row.split(',')     ### Spliting each row with the ',' delimiter\n",
    "    int_field = []                     ### Initializing and resetting an empty list to store str to int columns\n",
    "    for sf in string_fields:           ### Looping through the 5 columns of string data\n",
    "        int_sf = int(sf)               ### Converting the column string data to integers   \n",
    "        int_field.append(int_sf)       ### Building a new row of strings to ints   \n",
    "    final_data.append(int_field)       ### Adding the completed row of strings to ints to final_list"
   ]
  },
  {
   "cell_type": "markdown",
   "metadata": {},
   "source": [
    "### Displaying First Few Rows of data"
   ]
  },
  {
   "cell_type": "code",
   "execution_count": 12,
   "metadata": {},
   "outputs": [
    {
     "data": {
      "text/plain": [
       "[[1994, 1, 1, 6, 8096],\n",
       " [1994, 1, 2, 7, 7772],\n",
       " [1994, 1, 3, 1, 10142],\n",
       " [1994, 1, 4, 2, 11248],\n",
       " [1994, 1, 5, 3, 11053]]"
      ]
     },
     "execution_count": 12,
     "metadata": {},
     "output_type": "execute_result"
    }
   ],
   "source": [
    "final_data[0:5]"
   ]
  },
  {
   "cell_type": "markdown",
   "metadata": {},
   "source": [
    "### Confirming data are integers"
   ]
  },
  {
   "cell_type": "code",
   "execution_count": 13,
   "metadata": {},
   "outputs": [
    {
     "data": {
      "text/plain": [
       "int"
      ]
     },
     "execution_count": 13,
     "metadata": {},
     "output_type": "execute_result"
    }
   ],
   "source": [
    "type(final_data[0][3])"
   ]
  },
  {
   "cell_type": "markdown",
   "metadata": {},
   "source": [
    "### Create a Function that Opens a File and Manipulates Data into a List of Lists"
   ]
  },
  {
   "cell_type": "code",
   "execution_count": 14,
   "metadata": {
    "collapsed": true
   },
   "outputs": [],
   "source": [
    "def Read_Csv(filename):\n",
    "    \n",
    "    final_data = []\n",
    "    \n",
    "    data = open(filename, 'r').read().split('\\r')[1:] ### Reading in file and removing header\n",
    "    for row in data:                          ### Looping through rows of data\n",
    "        string_fields = row.split(',')        ### Spliting each row with the ',' delimiter\n",
    "        int_field = []                        ### Initializing and resetting an empty list to store str to int columns\n",
    "        for sf in string_fields:              ### Looping through the 5 columns of string data\n",
    "            int_sf = int(sf)                  ### Converting the column string data to integers   \n",
    "            int_field.append(int_sf)          ### Building a new row of strings to ints   \n",
    "        final_data.append(int_field)\n",
    "    \n",
    "    return final_data"
   ]
  },
  {
   "cell_type": "markdown",
   "metadata": {},
   "source": [
    "### Displaying the First Few Lines of Data"
   ]
  },
  {
   "cell_type": "code",
   "execution_count": 15,
   "metadata": {},
   "outputs": [
    {
     "data": {
      "text/plain": [
       "[[1994, 1, 1, 6, 8096],\n",
       " [1994, 1, 2, 7, 7772],\n",
       " [1994, 1, 3, 1, 10142],\n",
       " [1994, 1, 4, 2, 11248],\n",
       " [1994, 1, 5, 3, 11053]]"
      ]
     },
     "execution_count": 15,
     "metadata": {},
     "output_type": "execute_result"
    }
   ],
   "source": [
    "Read_Csv('US_births_1994-2003_CDC_NCHS.csv')[0:5]"
   ]
  },
  {
   "cell_type": "markdown",
   "metadata": {},
   "source": [
    "### Creating a Function to Calculate the Number of Births Per Month Using For a Loop and Dictionary"
   ]
  },
  {
   "cell_type": "code",
   "execution_count": 16,
   "metadata": {
    "collapsed": true
   },
   "outputs": [],
   "source": [
    "def month_births(lizt):                         ### Function takes in a list\n",
    "    births_per_month = {}                       ### Initializing an empty dictionary to count births per month\n",
    "    for row in lizt:                            ### Looping through rows\n",
    "        if row[1] in births_per_month:          ### If the month is already in the dictionary key, then\n",
    "            births_per_month[row[1]] += row[4]  ### add the births of that day into that month key\n",
    "        else:\n",
    "            births_per_month[row[1]] = row[4]   ### else assign the births values that day to the month key\n",
    "            \n",
    "    return births_per_month                     ### return the month_births dictionary"
   ]
  },
  {
   "cell_type": "markdown",
   "metadata": {},
   "source": [
    "### Total Births Per Month Dictionary...the Key is the Month. The Value is the number of Births that Month"
   ]
  },
  {
   "cell_type": "code",
   "execution_count": 17,
   "metadata": {},
   "outputs": [
    {
     "data": {
      "text/plain": [
       "{1: 3232517,\n",
       " 2: 3018140,\n",
       " 3: 3322069,\n",
       " 4: 3185314,\n",
       " 5: 3350907,\n",
       " 6: 3296530,\n",
       " 7: 3498783,\n",
       " 8: 3525858,\n",
       " 9: 3439698,\n",
       " 10: 3378814,\n",
       " 11: 3171647,\n",
       " 12: 3301860}"
      ]
     },
     "execution_count": 17,
     "metadata": {},
     "output_type": "execute_result"
    }
   ],
   "source": [
    "cdc_months_birth = month_births(final_data)\n",
    "cdc_months_birth"
   ]
  },
  {
   "cell_type": "markdown",
   "metadata": {},
   "source": [
    "### Creating a Function To Calculate the Number of Births Per Day of Week"
   ]
  },
  {
   "cell_type": "code",
   "execution_count": 18,
   "metadata": {
    "collapsed": true
   },
   "outputs": [],
   "source": [
    "def dow_births(lizt):                           ### Function takes in a list\n",
    "    dow_births = {}                             ### Initializing an empty dictionary to count day of week births\n",
    "    for row in lizt:                            ### Looping through rows\n",
    "        if row[3] in dow_births:                ### If the day of week is already in the dictionary key, then\n",
    "            dow_births[row[3]] += row[4]        ### add the births of that day into that day of week key\n",
    "        else:\n",
    "            dow_births[row[3]] = row[4]         ### else assign the births values to that day to the week key\n",
    "            \n",
    "    return dow_births  "
   ]
  },
  {
   "cell_type": "markdown",
   "metadata": {},
   "source": [
    "### Total Births Per Day of Week Dictionary...the Key is the Day of the Week. The value is the Number Births"
   ]
  },
  {
   "cell_type": "code",
   "execution_count": 19,
   "metadata": {},
   "outputs": [
    {
     "data": {
      "text/plain": [
       "{1: 5789166,\n",
       " 2: 6446196,\n",
       " 3: 6322855,\n",
       " 4: 6288429,\n",
       " 5: 6233657,\n",
       " 6: 4562111,\n",
       " 7: 4079723}"
      ]
     },
     "execution_count": 19,
     "metadata": {},
     "output_type": "execute_result"
    }
   ],
   "source": [
    "cdc_day_births = dow_births(final_data)\n",
    "cdc_day_births"
   ]
  },
  {
   "cell_type": "markdown",
   "metadata": {},
   "source": [
    "### Creating a More Flexible Function To Group Births Per Unit of Time By"
   ]
  },
  {
   "cell_type": "code",
   "execution_count": 20,
   "metadata": {
    "collapsed": true
   },
   "outputs": [],
   "source": [
    "def calc_count(data, column):                    ### data is 4 time columns and 1 births column, column is the column number\n",
    "    column_births = {}                           ### column births is the dictionary by which to group by\n",
    "    for row in data:                             ### looping through rows\n",
    "        if row[column] in column_births:         ### Using the column number as the keys to the dictionary\n",
    "            column_births[row[column]] += row[4] ### if the column is in the dict.keys then add the births\n",
    "        else:\n",
    "            column_births[row[column]] = row[4]  ### if the column isn't in the dict.keys assign the births value\n",
    "    \n",
    "    return column_births                         ### return the column birth dictionary"
   ]
  },
  {
   "cell_type": "markdown",
   "metadata": {},
   "source": [
    "### Using the Calc_count Function to Calculate Births Per Year"
   ]
  },
  {
   "cell_type": "code",
   "execution_count": 21,
   "metadata": {},
   "outputs": [
    {
     "data": {
      "text/plain": [
       "{1994: 3952767,\n",
       " 1995: 3899589,\n",
       " 1996: 3891494,\n",
       " 1997: 3880894,\n",
       " 1998: 3941553,\n",
       " 1999: 3959417,\n",
       " 2000: 4058814,\n",
       " 2001: 4025933,\n",
       " 2002: 4021726,\n",
       " 2003: 4089950}"
      ]
     },
     "execution_count": 21,
     "metadata": {},
     "output_type": "execute_result"
    }
   ],
   "source": [
    "calc_count(final_data, 0)"
   ]
  },
  {
   "cell_type": "markdown",
   "metadata": {},
   "source": [
    "### Using the Calc_count Function to Calculate Births Per Month"
   ]
  },
  {
   "cell_type": "code",
   "execution_count": 22,
   "metadata": {},
   "outputs": [
    {
     "data": {
      "text/plain": [
       "{1: 3232517,\n",
       " 2: 3018140,\n",
       " 3: 3322069,\n",
       " 4: 3185314,\n",
       " 5: 3350907,\n",
       " 6: 3296530,\n",
       " 7: 3498783,\n",
       " 8: 3525858,\n",
       " 9: 3439698,\n",
       " 10: 3378814,\n",
       " 11: 3171647,\n",
       " 12: 3301860}"
      ]
     },
     "execution_count": 22,
     "metadata": {},
     "output_type": "execute_result"
    }
   ],
   "source": [
    "calc_count(final_data, 1)"
   ]
  },
  {
   "cell_type": "markdown",
   "metadata": {},
   "source": [
    "### Using the Calc_count Function to Calculate Births Per Date of Month"
   ]
  },
  {
   "cell_type": "code",
   "execution_count": 23,
   "metadata": {},
   "outputs": [
    {
     "data": {
      "text/plain": [
       "{1: 1276557,\n",
       " 2: 1288739,\n",
       " 3: 1304499,\n",
       " 4: 1288154,\n",
       " 5: 1299953,\n",
       " 6: 1304474,\n",
       " 7: 1310459,\n",
       " 8: 1312297,\n",
       " 9: 1303292,\n",
       " 10: 1320764,\n",
       " 11: 1314361,\n",
       " 12: 1318437,\n",
       " 13: 1277684,\n",
       " 14: 1320153,\n",
       " 15: 1319171,\n",
       " 16: 1315192,\n",
       " 17: 1324953,\n",
       " 18: 1326855,\n",
       " 19: 1318727,\n",
       " 20: 1324821,\n",
       " 21: 1322897,\n",
       " 22: 1317381,\n",
       " 23: 1293290,\n",
       " 24: 1288083,\n",
       " 25: 1272116,\n",
       " 26: 1284796,\n",
       " 27: 1294395,\n",
       " 28: 1307685,\n",
       " 29: 1223161,\n",
       " 30: 1202095,\n",
       " 31: 746696}"
      ]
     },
     "execution_count": 23,
     "metadata": {},
     "output_type": "execute_result"
    }
   ],
   "source": [
    "calc_count(final_data, 2)"
   ]
  },
  {
   "cell_type": "markdown",
   "metadata": {},
   "source": [
    "### Using the Calc_count Function  to Calculate Births Per Day of Week"
   ]
  },
  {
   "cell_type": "code",
   "execution_count": 24,
   "metadata": {},
   "outputs": [
    {
     "data": {
      "text/plain": [
       "{1: 5789166,\n",
       " 2: 6446196,\n",
       " 3: 6322855,\n",
       " 4: 6288429,\n",
       " 5: 6233657,\n",
       " 6: 4562111,\n",
       " 7: 4079723}"
      ]
     },
     "execution_count": 24,
     "metadata": {},
     "output_type": "execute_result"
    }
   ],
   "source": [
    "calc_count(final_data, 3)"
   ]
  },
  {
   "cell_type": "markdown",
   "metadata": {},
   "source": [
    "### Creating a Function to Calculate the Minimum and Maximum Value in a Dictionary"
   ]
  },
  {
   "cell_type": "code",
   "execution_count": 25,
   "metadata": {
    "collapsed": true
   },
   "outputs": [],
   "source": [
    "def find_min_max(dictionary):                ### Function to calculate min or max of a dictionary\n",
    "    min = None                               ### initializing min and max variables to None\n",
    "    max = None\n",
    "    for key, value in dictionary.items():    ### Looping through dictionary keys and values\n",
    "        if min is None:                      ### assigning first value to min and max\n",
    "            min = value\n",
    "        if max is None:\n",
    "            max = value\n",
    "        if value < min:                      ### Evaluating each value and comparing to min and max current values\n",
    "            min = value                      ### If new value is less than min assign min the new value\n",
    "        if value > max:                      ### If new value is greater than max assign max the new value\n",
    "            max = value\n",
    "    return min, max"
   ]
  },
  {
   "cell_type": "markdown",
   "metadata": {},
   "source": [
    "### Printing Out Births Per Week"
   ]
  },
  {
   "cell_type": "code",
   "execution_count": 26,
   "metadata": {},
   "outputs": [
    {
     "data": {
      "text/plain": [
       "{1: 5789166,\n",
       " 2: 6446196,\n",
       " 3: 6322855,\n",
       " 4: 6288429,\n",
       " 5: 6233657,\n",
       " 6: 4562111,\n",
       " 7: 4079723}"
      ]
     },
     "execution_count": 26,
     "metadata": {},
     "output_type": "execute_result"
    }
   ],
   "source": [
    "calc_count(final_data, 3)"
   ]
  },
  {
   "cell_type": "markdown",
   "metadata": {},
   "source": [
    "### Using Find_min_max Function to Find The Min and Max Births Per Day From Calc_count Function"
   ]
  },
  {
   "cell_type": "code",
   "execution_count": 27,
   "metadata": {
    "collapsed": true
   },
   "outputs": [],
   "source": [
    "min, max = find_min_max(calc_count(final_data, 3))"
   ]
  },
  {
   "cell_type": "code",
   "execution_count": 28,
   "metadata": {},
   "outputs": [
    {
     "data": {
      "text/plain": [
       "4079723"
      ]
     },
     "execution_count": 28,
     "metadata": {},
     "output_type": "execute_result"
    }
   ],
   "source": [
    "min"
   ]
  },
  {
   "cell_type": "code",
   "execution_count": 29,
   "metadata": {},
   "outputs": [
    {
     "data": {
      "text/plain": [
       "6446196"
      ]
     },
     "execution_count": 29,
     "metadata": {},
     "output_type": "execute_result"
    }
   ],
   "source": [
    "max"
   ]
  },
  {
   "cell_type": "markdown",
   "metadata": {},
   "source": [
    "### Displaying First Few Lines of Final List Data"
   ]
  },
  {
   "cell_type": "code",
   "execution_count": 30,
   "metadata": {},
   "outputs": [
    {
     "data": {
      "text/plain": [
       "[[1994, 1, 1, 6, 8096],\n",
       " [1994, 1, 2, 7, 7772],\n",
       " [1994, 1, 3, 1, 10142],\n",
       " [1994, 1, 4, 2, 11248],\n",
       " [1994, 1, 5, 3, 11053]]"
      ]
     },
     "execution_count": 30,
     "metadata": {},
     "output_type": "execute_result"
    }
   ],
   "source": [
    "final_data[0:5]"
   ]
  },
  {
   "cell_type": "markdown",
   "metadata": {},
   "source": [
    "### Creating a Function That Compares Births Per Unit of Time Over Two Different Years"
   ]
  },
  {
   "cell_type": "code",
   "execution_count": 31,
   "metadata": {
    "collapsed": true
   },
   "outputs": [],
   "source": [
    "def year_2_year(lizt, year1, year2, column, time):    ### Input final_list, year1, year2, column, column value\n",
    "    \n",
    "    if column == 1:                                   ### If the unit of time is month and not day of week or day\n",
    "        month1 = 0                                    ### day of month, then the total births per month are summed\n",
    "        month2 = 0                                    ### \n",
    "        for row in lizt:\n",
    "            if ((row[0] == year1) and (row[1] == time)):\n",
    "                month1 += row[4]\n",
    "            if ((row[0] == year2) and (row[1] == time)):\n",
    "                month2 += row[4]\n",
    "        return month1, month2\n",
    "    \n",
    "    if column == 2:\n",
    "        month_day_1 = 0\n",
    "        month_day_2 = 0\n",
    "        for row in lizt:\n",
    "            if ((row[0] == year1) and (row[2] == time)):\n",
    "                month_day_1 += row[4]\n",
    "            if ((row[0] == year2) and (row[2] == time)):\n",
    "                month_day_2 += row[4]\n",
    "                \n",
    "        return month_day_1, month_day_2\n",
    "      \n",
    "    if column == 3:\n",
    "        weekday1 = 0\n",
    "        weekday2 = 0\n",
    "        for row in lizt:                                   ### Looping over list. Selecting births for matching unit of \n",
    "            if ((row[0] == year1) and (row[3] == time)):   ### time between the consecutive years and assigning births\n",
    "                weekday1 += row[4]                         ### to first_year and second_year\n",
    "            if ((row[0] == year2) and (row[3] == time)):\n",
    "                weekday2 += row[4] \n",
    "            \n",
    "        return weekday1, weekday2                         ### returning first_year, second_year as a tuple"
   ]
  },
  {
   "cell_type": "markdown",
   "metadata": {},
   "source": [
    "### Difference of Births from July 1995 and July 2003"
   ]
  },
  {
   "cell_type": "code",
   "execution_count": 32,
   "metadata": {
    "collapsed": true
   },
   "outputs": [],
   "source": [
    "july_1995, july_2003 = year_2_year(final_data, year1 = 1995, year2 = 2003, column = 1, time = 7 )"
   ]
  },
  {
   "cell_type": "code",
   "execution_count": 33,
   "metadata": {},
   "outputs": [
    {
     "data": {
      "text/plain": [
       "340873"
      ]
     },
     "execution_count": 33,
     "metadata": {},
     "output_type": "execute_result"
    }
   ],
   "source": [
    "july_1995"
   ]
  },
  {
   "cell_type": "code",
   "execution_count": 34,
   "metadata": {},
   "outputs": [
    {
     "data": {
      "text/plain": [
       "364226"
      ]
     },
     "execution_count": 34,
     "metadata": {},
     "output_type": "execute_result"
    }
   ],
   "source": [
    "july_2003"
   ]
  },
  {
   "cell_type": "markdown",
   "metadata": {},
   "source": [
    "### Difference of Births On Saturdays from 1998 Compared to 2001 "
   ]
  },
  {
   "cell_type": "code",
   "execution_count": 35,
   "metadata": {
    "collapsed": true
   },
   "outputs": [],
   "source": [
    "saturday_1998, saturday_2001 = year_2_year(final_data, year1 = 1998, year2 = 2001, column = 3, time = 6)"
   ]
  },
  {
   "cell_type": "code",
   "execution_count": 36,
   "metadata": {},
   "outputs": [
    {
     "data": {
      "text/plain": [
       "453776"
      ]
     },
     "execution_count": 36,
     "metadata": {},
     "output_type": "execute_result"
    }
   ],
   "source": [
    "saturday_1998"
   ]
  },
  {
   "cell_type": "code",
   "execution_count": 37,
   "metadata": {},
   "outputs": [
    {
     "data": {
      "text/plain": [
       "453928"
      ]
     },
     "execution_count": 37,
     "metadata": {},
     "output_type": "execute_result"
    }
   ],
   "source": [
    "saturday_2001"
   ]
  },
  {
   "cell_type": "markdown",
   "metadata": {},
   "source": [
    "### Difference of Births on Christmas Day from 1994 to 2000"
   ]
  },
  {
   "cell_type": "code",
   "execution_count": 38,
   "metadata": {
    "collapsed": true
   },
   "outputs": [],
   "source": [
    "xmas_1994, xmas_2000 = year_2_year(final_data, year1 = 1994, year2 = 2000, column = 2, time = 2)"
   ]
  },
  {
   "cell_type": "code",
   "execution_count": 39,
   "metadata": {},
   "outputs": [
    {
     "data": {
      "text/plain": [
       "128688"
      ]
     },
     "execution_count": 39,
     "metadata": {},
     "output_type": "execute_result"
    }
   ],
   "source": [
    "xmas_1994"
   ]
  },
  {
   "cell_type": "code",
   "execution_count": 40,
   "metadata": {},
   "outputs": [
    {
     "data": {
      "text/plain": [
       "127447"
      ]
     },
     "execution_count": 40,
     "metadata": {},
     "output_type": "execute_result"
    }
   ],
   "source": [
    "xmas_2000"
   ]
  },
  {
   "cell_type": "markdown",
   "metadata": {},
   "source": [
    "### Searching for US_birhths_2000-2015_SSA.csv file"
   ]
  },
  {
   "cell_type": "code",
   "execution_count": 41,
   "metadata": {},
   "outputs": [
    {
     "name": "stdout",
     "output_type": "stream",
     "text": [
      "\u001b[1m\u001b[32mBasics.ipynb\u001b[m\u001b[m                     \u001b[1m\u001b[32mUS_births_1994-2003_CDC_NCHS.csv\u001b[m\u001b[m\r\n",
      "Births.ipynb                     \u001b[1m\u001b[32mUS_births_2000-2014_SSA.csv\u001b[m\u001b[m\r\n",
      "README.md                        Untitled.ipynb\r\n",
      "U.S. Births Project.ipynb\r\n"
     ]
    }
   ],
   "source": [
    "!ls"
   ]
  },
  {
   "cell_type": "markdown",
   "metadata": {},
   "source": [
    "### Opening File and Importing Data"
   ]
  },
  {
   "cell_type": "code",
   "execution_count": 42,
   "metadata": {
    "collapsed": true
   },
   "outputs": [],
   "source": [
    "data2 = open('US_births_2000-2014_SSA.csv', 'r').read().split('\\r')[1:]"
   ]
  },
  {
   "cell_type": "code",
   "execution_count": 43,
   "metadata": {},
   "outputs": [
    {
     "data": {
      "text/plain": [
       "['2000,1,1,6,9083',\n",
       " '2000,1,2,7,8006',\n",
       " '2000,1,3,1,11363',\n",
       " '2000,1,4,2,13032',\n",
       " '2000,1,5,3,12558']"
      ]
     },
     "execution_count": 43,
     "metadata": {},
     "output_type": "execute_result"
    }
   ],
   "source": [
    "data2[0:5]"
   ]
  },
  {
   "cell_type": "markdown",
   "metadata": {},
   "source": [
    "### Looping Through Data and Separating on Commas into Rows"
   ]
  },
  {
   "cell_type": "code",
   "execution_count": 44,
   "metadata": {
    "collapsed": true
   },
   "outputs": [],
   "source": [
    "final_data_two = []\n",
    "\n",
    "for row in data2:\n",
    "    cells = row.split(',')\n",
    "    word_list = []\n",
    "    for cell in cells:\n",
    "        word_list.append(int(cell))\n",
    "    final_data_two.append(word_list)"
   ]
  },
  {
   "cell_type": "markdown",
   "metadata": {},
   "source": [
    "### Displaying the First Rows of Data"
   ]
  },
  {
   "cell_type": "code",
   "execution_count": 45,
   "metadata": {},
   "outputs": [
    {
     "data": {
      "text/plain": [
       "[[2000, 1, 1, 6, 9083],\n",
       " [2000, 1, 2, 7, 8006],\n",
       " [2000, 1, 3, 1, 11363],\n",
       " [2000, 1, 4, 2, 13032],\n",
       " [2000, 1, 5, 3, 12558]]"
      ]
     },
     "execution_count": 45,
     "metadata": {},
     "output_type": "execute_result"
    }
   ],
   "source": [
    "final_data_two[0:5]"
   ]
  },
  {
   "cell_type": "code",
   "execution_count": 46,
   "metadata": {},
   "outputs": [
    {
     "data": {
      "text/plain": [
       "[[1994, 1, 1, 6, 8096],\n",
       " [1994, 1, 2, 7, 7772],\n",
       " [1994, 1, 3, 1, 10142],\n",
       " [1994, 1, 4, 2, 11248],\n",
       " [1994, 1, 5, 3, 11053]]"
      ]
     },
     "execution_count": 46,
     "metadata": {},
     "output_type": "execute_result"
    }
   ],
   "source": [
    "final_data[0:5]"
   ]
  },
  {
   "cell_type": "markdown",
   "metadata": {},
   "source": [
    "### Trying to Combine Both Files Worth Of Data"
   ]
  },
  {
   "cell_type": "code",
   "execution_count": 47,
   "metadata": {
    "collapsed": true
   },
   "outputs": [],
   "source": [
    "first_rows = []\n",
    "middle_rows = []\n",
    "last_rows = []\n",
    "final_rows = []\n",
    "\n",
    "for index1, value1 in enumerate(final_data):\n",
    "    for index2, value2 in enumerate(final_data_two):\n",
    "        if value1[0] < value2[0]:\n",
    "            continue\n",
    "        if ((value1[0]==value2[0]) and (value1[1]==value2[1]) and (value1[2]==value2[2]) and (value1[3]==value2[3])):\n",
    "            total = value1[4] + value2[4]\n",
    "            new_row = [value1[0], value1[1], value1[2], value1[3], total]\n",
    "            middle_rows.append(new_row)\n",
    "        first_rows.append(value1)\n"
   ]
  },
  {
   "cell_type": "code",
   "execution_count": 48,
   "metadata": {},
   "outputs": [
    {
     "data": {
      "text/plain": [
       "[[2000, 1, 1, 6, 17926],\n",
       " [2000, 1, 2, 7, 15822],\n",
       " [2000, 1, 3, 1, 22486],\n",
       " [2000, 1, 4, 2, 25735],\n",
       " [2000, 1, 5, 3, 24798],\n",
       " [2000, 1, 6, 4, 24726],\n",
       " [2000, 1, 7, 5, 24796],\n",
       " [2000, 1, 8, 6, 17684],\n",
       " [2000, 1, 9, 7, 15685],\n",
       " [2000, 1, 10, 1, 23086],\n",
       " [2000, 1, 11, 2, 24934],\n",
       " [2000, 1, 12, 3, 24455],\n",
       " [2000, 1, 13, 4, 23371],\n",
       " [2000, 1, 14, 5, 24104],\n",
       " [2000, 1, 15, 6, 16890],\n",
       " [2000, 1, 16, 7, 15156],\n",
       " [2000, 1, 17, 1, 21425],\n",
       " [2000, 1, 18, 2, 24436],\n",
       " [2000, 1, 19, 3, 24488],\n",
       " [2000, 1, 20, 4, 24694],\n",
       " [2000, 1, 21, 5, 23620],\n",
       " [2000, 1, 22, 6, 17488],\n",
       " [2000, 1, 23, 7, 15568],\n",
       " [2000, 1, 24, 1, 22633],\n",
       " [2000, 1, 25, 2, 24846],\n",
       " [2000, 1, 26, 3, 24022],\n",
       " [2000, 1, 27, 4, 24544],\n",
       " [2000, 1, 28, 5, 23607],\n",
       " [2000, 1, 29, 6, 17440],\n",
       " [2000, 1, 30, 7, 15367],\n",
       " [2000, 1, 31, 1, 22015],\n",
       " [2000, 2, 1, 2, 24973],\n",
       " [2000, 2, 2, 3, 24547],\n",
       " [2000, 2, 3, 4, 23868],\n",
       " [2000, 2, 4, 5, 23863],\n",
       " [2000, 2, 5, 6, 17098],\n",
       " [2000, 2, 6, 7, 15592],\n",
       " [2000, 2, 7, 1, 23005],\n",
       " [2000, 2, 8, 2, 25470],\n",
       " [2000, 2, 9, 3, 24339],\n",
       " [2000, 2, 10, 4, 24951],\n",
       " [2000, 2, 11, 5, 24593],\n",
       " [2000, 2, 12, 6, 17510],\n",
       " [2000, 2, 13, 7, 15734],\n",
       " [2000, 2, 14, 1, 24072],\n",
       " [2000, 2, 15, 2, 25728],\n",
       " [2000, 2, 16, 3, 24760],\n",
       " [2000, 2, 17, 4, 24794],\n",
       " [2000, 2, 18, 5, 24568],\n",
       " [2000, 2, 19, 6, 17554],\n",
       " [2000, 2, 20, 7, 15706],\n",
       " [2000, 2, 21, 1, 21016],\n",
       " [2000, 2, 22, 2, 25065],\n",
       " [2000, 2, 23, 3, 24224],\n",
       " [2000, 2, 24, 4, 24583],\n",
       " [2000, 2, 25, 5, 24175],\n",
       " [2000, 2, 26, 6, 17873],\n",
       " [2000, 2, 27, 7, 15552],\n",
       " [2000, 2, 28, 1, 22670],\n",
       " [2000, 2, 29, 2, 23540],\n",
       " [2000, 3, 1, 3, 25079],\n",
       " [2000, 3, 2, 4, 24785],\n",
       " [2000, 3, 3, 5, 24510],\n",
       " [2000, 3, 4, 6, 17915],\n",
       " [2000, 3, 5, 7, 15333],\n",
       " [2000, 3, 6, 1, 22497],\n",
       " [2000, 3, 7, 2, 24553],\n",
       " [2000, 3, 8, 3, 24399],\n",
       " [2000, 3, 9, 4, 24918],\n",
       " [2000, 3, 10, 5, 24050],\n",
       " [2000, 3, 11, 6, 17479],\n",
       " [2000, 3, 12, 7, 15699],\n",
       " [2000, 3, 13, 1, 22103],\n",
       " [2000, 3, 14, 2, 25296],\n",
       " [2000, 3, 15, 3, 24542],\n",
       " [2000, 3, 16, 4, 24585],\n",
       " [2000, 3, 17, 5, 24532],\n",
       " [2000, 3, 18, 6, 17179],\n",
       " [2000, 3, 19, 7, 15405],\n",
       " [2000, 3, 20, 1, 22876],\n",
       " [2000, 3, 21, 2, 25059],\n",
       " [2000, 3, 22, 3, 24319],\n",
       " [2000, 3, 23, 4, 24564],\n",
       " [2000, 3, 24, 5, 24431],\n",
       " [2000, 3, 25, 6, 18130],\n",
       " [2000, 3, 26, 7, 15490],\n",
       " [2000, 3, 27, 1, 22342],\n",
       " [2000, 3, 28, 2, 25044],\n",
       " [2000, 3, 29, 3, 23883],\n",
       " [2000, 3, 30, 4, 23922],\n",
       " [2000, 3, 31, 5, 23458],\n",
       " [2000, 4, 1, 6, 16626],\n",
       " [2000, 4, 2, 7, 14959],\n",
       " [2000, 4, 3, 1, 22575],\n",
       " [2000, 4, 4, 2, 25320],\n",
       " [2000, 4, 5, 3, 24155],\n",
       " [2000, 4, 6, 4, 24121],\n",
       " [2000, 4, 7, 5, 24217],\n",
       " [2000, 4, 8, 6, 17326],\n",
       " [2000, 4, 9, 7, 15387],\n",
       " [2000, 4, 10, 1, 22441],\n",
       " [2000, 4, 11, 2, 25417],\n",
       " [2000, 4, 12, 3, 24786],\n",
       " [2000, 4, 13, 4, 23584],\n",
       " [2000, 4, 14, 5, 23882],\n",
       " [2000, 4, 15, 6, 17605],\n",
       " [2000, 4, 16, 7, 15584],\n",
       " [2000, 4, 17, 1, 22437],\n",
       " [2000, 4, 18, 2, 25308],\n",
       " [2000, 4, 19, 3, 24813],\n",
       " [2000, 4, 20, 4, 24356],\n",
       " [2000, 4, 21, 5, 22337],\n",
       " [2000, 4, 22, 6, 16600],\n",
       " [2000, 4, 23, 7, 14858],\n",
       " [2000, 4, 24, 1, 22418],\n",
       " [2000, 4, 25, 2, 24725],\n",
       " [2000, 4, 26, 3, 24239],\n",
       " [2000, 4, 27, 4, 24248],\n",
       " [2000, 4, 28, 5, 23774],\n",
       " [2000, 4, 29, 6, 17283],\n",
       " [2000, 4, 30, 7, 15156],\n",
       " [2000, 5, 1, 1, 23020],\n",
       " [2000, 5, 2, 2, 25626],\n",
       " [2000, 5, 3, 3, 24276],\n",
       " [2000, 5, 4, 4, 24646],\n",
       " [2000, 5, 5, 5, 24791],\n",
       " [2000, 5, 6, 6, 17503],\n",
       " [2000, 5, 7, 7, 15472],\n",
       " [2000, 5, 8, 1, 22988],\n",
       " [2000, 5, 9, 2, 25214],\n",
       " [2000, 5, 10, 3, 24949],\n",
       " [2000, 5, 11, 4, 24627],\n",
       " [2000, 5, 12, 5, 24060],\n",
       " [2000, 5, 13, 6, 17316],\n",
       " [2000, 5, 14, 7, 15112],\n",
       " [2000, 5, 15, 1, 22903],\n",
       " [2000, 5, 16, 2, 25479],\n",
       " [2000, 5, 17, 3, 25216],\n",
       " [2000, 5, 18, 4, 24916],\n",
       " [2000, 5, 19, 5, 24135],\n",
       " [2000, 5, 20, 6, 17149],\n",
       " [2000, 5, 21, 7, 15628],\n",
       " [2000, 5, 22, 1, 22947],\n",
       " [2000, 5, 23, 2, 25903],\n",
       " [2000, 5, 24, 3, 25096],\n",
       " [2000, 5, 25, 4, 25778],\n",
       " [2000, 5, 26, 5, 25229],\n",
       " [2000, 5, 27, 6, 17857],\n",
       " [2000, 5, 28, 7, 15631],\n",
       " [2000, 5, 29, 1, 16371],\n",
       " [2000, 5, 30, 2, 23653],\n",
       " [2000, 5, 31, 3, 25666],\n",
       " [2000, 6, 1, 4, 26477],\n",
       " [2000, 6, 2, 5, 25123],\n",
       " [2000, 6, 3, 6, 17716],\n",
       " [2000, 6, 4, 7, 15843],\n",
       " [2000, 6, 5, 1, 23105],\n",
       " [2000, 6, 6, 2, 25199],\n",
       " [2000, 6, 7, 3, 24691],\n",
       " [2000, 6, 8, 4, 25259],\n",
       " [2000, 6, 9, 5, 24779],\n",
       " [2000, 6, 10, 6, 18090],\n",
       " [2000, 6, 11, 7, 16077],\n",
       " [2000, 6, 12, 1, 23428],\n",
       " [2000, 6, 13, 2, 25099],\n",
       " [2000, 6, 14, 3, 25448],\n",
       " [2000, 6, 15, 4, 25326],\n",
       " [2000, 6, 16, 5, 25251],\n",
       " [2000, 6, 17, 6, 18124],\n",
       " [2000, 6, 18, 7, 16186],\n",
       " [2000, 6, 19, 1, 23074],\n",
       " [2000, 6, 20, 2, 25781],\n",
       " [2000, 6, 21, 3, 25226],\n",
       " [2000, 6, 22, 4, 25370],\n",
       " [2000, 6, 23, 5, 24967],\n",
       " [2000, 6, 24, 6, 18046],\n",
       " [2000, 6, 25, 7, 16235],\n",
       " [2000, 6, 26, 1, 24078],\n",
       " [2000, 6, 27, 2, 26457],\n",
       " [2000, 6, 28, 3, 25809],\n",
       " [2000, 6, 29, 4, 26646],\n",
       " [2000, 6, 30, 5, 26195],\n",
       " [2000, 7, 1, 6, 18591],\n",
       " [2000, 7, 2, 7, 16033],\n",
       " [2000, 7, 3, 1, 22425],\n",
       " [2000, 7, 4, 2, 18944],\n",
       " [2000, 7, 5, 3, 24424],\n",
       " [2000, 7, 6, 4, 27411],\n",
       " [2000, 7, 7, 5, 27030],\n",
       " [2000, 7, 8, 6, 19110],\n",
       " [2000, 7, 9, 7, 17021],\n",
       " [2000, 7, 10, 1, 24581],\n",
       " [2000, 7, 11, 2, 26851],\n",
       " [2000, 7, 12, 3, 25370],\n",
       " [2000, 7, 13, 4, 25664],\n",
       " [2000, 7, 14, 5, 26171],\n",
       " [2000, 7, 15, 6, 19019],\n",
       " [2000, 7, 16, 7, 16736],\n",
       " [2000, 7, 17, 1, 23929],\n",
       " [2000, 7, 18, 2, 27017],\n",
       " [2000, 7, 19, 3, 25719],\n",
       " [2000, 7, 20, 4, 26028],\n",
       " [2000, 7, 21, 5, 25794],\n",
       " [2000, 7, 22, 6, 18732],\n",
       " [2000, 7, 23, 7, 16177],\n",
       " [2000, 7, 24, 1, 24044],\n",
       " [2000, 7, 25, 2, 26119],\n",
       " [2000, 7, 26, 3, 25631],\n",
       " [2000, 7, 27, 4, 26004],\n",
       " [2000, 7, 28, 5, 25544],\n",
       " [2000, 7, 29, 6, 18768],\n",
       " [2000, 7, 30, 7, 16733],\n",
       " [2000, 7, 31, 1, 23486],\n",
       " [2000, 8, 1, 2, 26437],\n",
       " [2000, 8, 2, 3, 25324],\n",
       " [2000, 8, 3, 4, 25926],\n",
       " [2000, 8, 4, 5, 25621],\n",
       " [2000, 8, 5, 6, 18634],\n",
       " [2000, 8, 6, 7, 16551],\n",
       " [2000, 8, 7, 1, 23492],\n",
       " [2000, 8, 8, 2, 27027],\n",
       " [2000, 8, 9, 3, 26096],\n",
       " [2000, 8, 10, 4, 25647],\n",
       " [2000, 8, 11, 5, 25207],\n",
       " [2000, 8, 12, 6, 18377],\n",
       " [2000, 8, 13, 7, 16487],\n",
       " [2000, 8, 14, 1, 23565],\n",
       " [2000, 8, 15, 2, 26441],\n",
       " [2000, 8, 16, 3, 26050],\n",
       " [2000, 8, 17, 4, 25927],\n",
       " [2000, 8, 18, 5, 25963],\n",
       " [2000, 8, 19, 6, 18378],\n",
       " [2000, 8, 20, 7, 16468],\n",
       " [2000, 8, 21, 1, 23714],\n",
       " [2000, 8, 22, 2, 26578],\n",
       " [2000, 8, 23, 3, 25614],\n",
       " [2000, 8, 24, 4, 25758],\n",
       " [2000, 8, 25, 5, 25549],\n",
       " [2000, 8, 26, 6, 18534],\n",
       " [2000, 8, 27, 7, 16326],\n",
       " [2000, 8, 28, 1, 23868],\n",
       " [2000, 8, 29, 2, 26159],\n",
       " [2000, 8, 30, 3, 25916],\n",
       " [2000, 8, 31, 4, 26339],\n",
       " [2000, 9, 1, 5, 25971],\n",
       " [2000, 9, 2, 6, 18331],\n",
       " [2000, 9, 3, 7, 16328],\n",
       " [2000, 9, 4, 1, 17015],\n",
       " [2000, 9, 5, 2, 24071],\n",
       " [2000, 9, 6, 3, 27494],\n",
       " [2000, 9, 7, 4, 26706],\n",
       " [2000, 9, 8, 5, 26653],\n",
       " [2000, 9, 9, 6, 19477],\n",
       " [2000, 9, 10, 7, 16906],\n",
       " [2000, 9, 11, 1, 24496],\n",
       " [2000, 9, 12, 2, 26912],\n",
       " [2000, 9, 13, 3, 26264],\n",
       " [2000, 9, 14, 4, 27171],\n",
       " [2000, 9, 15, 5, 26797],\n",
       " [2000, 9, 16, 6, 19360],\n",
       " [2000, 9, 17, 7, 17195],\n",
       " [2000, 9, 18, 1, 24798],\n",
       " [2000, 9, 19, 2, 27383],\n",
       " [2000, 9, 20, 3, 27159],\n",
       " [2000, 9, 21, 4, 26400],\n",
       " [2000, 9, 22, 5, 26082],\n",
       " [2000, 9, 23, 6, 18798],\n",
       " [2000, 9, 24, 7, 16931],\n",
       " [2000, 9, 25, 1, 24582],\n",
       " [2000, 9, 26, 2, 26750],\n",
       " [2000, 9, 27, 3, 26604],\n",
       " [2000, 9, 28, 4, 26717],\n",
       " [2000, 9, 29, 5, 25769],\n",
       " [2000, 9, 30, 6, 18470],\n",
       " [2000, 10, 1, 7, 16732],\n",
       " [2000, 10, 2, 1, 24128],\n",
       " [2000, 10, 3, 2, 26214],\n",
       " [2000, 10, 4, 3, 25995],\n",
       " [2000, 10, 5, 4, 26231],\n",
       " [2000, 10, 6, 5, 25265],\n",
       " [2000, 10, 7, 6, 18056],\n",
       " [2000, 10, 8, 7, 16075],\n",
       " [2000, 10, 9, 1, 22365],\n",
       " [2000, 10, 10, 2, 25874],\n",
       " [2000, 10, 11, 3, 25471],\n",
       " [2000, 10, 12, 4, 25794],\n",
       " [2000, 10, 13, 5, 23191],\n",
       " [2000, 10, 14, 6, 18148],\n",
       " [2000, 10, 15, 7, 16128],\n",
       " [2000, 10, 16, 1, 23703],\n",
       " [2000, 10, 17, 2, 25911],\n",
       " [2000, 10, 18, 3, 25286],\n",
       " [2000, 10, 19, 4, 24697],\n",
       " [2000, 10, 20, 5, 24617],\n",
       " [2000, 10, 21, 6, 17721],\n",
       " [2000, 10, 22, 7, 15710],\n",
       " [2000, 10, 23, 1, 23336],\n",
       " [2000, 10, 24, 2, 25680],\n",
       " [2000, 10, 25, 3, 25243],\n",
       " [2000, 10, 26, 4, 25262],\n",
       " [2000, 10, 27, 5, 24384],\n",
       " [2000, 10, 28, 6, 17768],\n",
       " [2000, 10, 29, 7, 16078],\n",
       " [2000, 10, 30, 1, 22785],\n",
       " [2000, 10, 31, 2, 22441],\n",
       " [2000, 11, 1, 3, 25506],\n",
       " [2000, 11, 2, 4, 25800],\n",
       " [2000, 11, 3, 5, 24959],\n",
       " [2000, 11, 4, 6, 17937],\n",
       " [2000, 11, 5, 7, 15968],\n",
       " [2000, 11, 6, 1, 23382],\n",
       " [2000, 11, 7, 2, 25414],\n",
       " [2000, 11, 8, 3, 25335],\n",
       " [2000, 11, 9, 4, 25280],\n",
       " [2000, 11, 10, 5, 24854],\n",
       " [2000, 11, 11, 6, 18370],\n",
       " [2000, 11, 12, 7, 15944],\n",
       " [2000, 11, 13, 1, 22609],\n",
       " [2000, 11, 14, 2, 25929],\n",
       " [2000, 11, 15, 3, 25576],\n",
       " [2000, 11, 16, 4, 25767],\n",
       " [2000, 11, 17, 5, 25494],\n",
       " [2000, 11, 18, 6, 18043],\n",
       " [2000, 11, 19, 7, 15949],\n",
       " [2000, 11, 20, 1, 25599],\n",
       " [2000, 11, 21, 2, 27663],\n",
       " [2000, 11, 22, 3, 24458],\n",
       " [2000, 11, 23, 4, 16083],\n",
       " [2000, 11, 24, 5, 19344],\n",
       " [2000, 11, 25, 6, 16857],\n",
       " [2000, 11, 26, 7, 15743],\n",
       " [2000, 11, 27, 1, 24006],\n",
       " [2000, 11, 28, 2, 27245],\n",
       " [2000, 11, 29, 3, 25900],\n",
       " [2000, 11, 30, 4, 25291],\n",
       " [2000, 12, 1, 5, 24764],\n",
       " [2000, 12, 2, 6, 17536],\n",
       " [2000, 12, 3, 7, 15678],\n",
       " [2000, 12, 4, 1, 22677],\n",
       " [2000, 12, 5, 2, 25604],\n",
       " [2000, 12, 6, 3, 25060],\n",
       " [2000, 12, 7, 4, 25318],\n",
       " [2000, 12, 8, 5, 24811],\n",
       " [2000, 12, 9, 6, 17488],\n",
       " [2000, 12, 10, 7, 15829],\n",
       " [2000, 12, 11, 1, 23317],\n",
       " [2000, 12, 12, 2, 26816],\n",
       " [2000, 12, 13, 3, 24781],\n",
       " [2000, 12, 14, 4, 24953],\n",
       " [2000, 12, 15, 5, 25024],\n",
       " [2000, 12, 16, 6, 18165],\n",
       " [2000, 12, 17, 7, 15871],\n",
       " [2000, 12, 18, 1, 24866],\n",
       " [2000, 12, 19, 2, 27259],\n",
       " [2000, 12, 20, 3, 27153],\n",
       " [2000, 12, 21, 4, 26670],\n",
       " [2000, 12, 22, 5, 24185],\n",
       " [2000, 12, 23, 6, 16778],\n",
       " [2000, 12, 24, 7, 13772],\n",
       " [2000, 12, 25, 1, 13285],\n",
       " [2000, 12, 26, 2, 20465],\n",
       " [2000, 12, 27, 3, 26110],\n",
       " [2000, 12, 28, 4, 27432],\n",
       " [2000, 12, 29, 5, 26841],\n",
       " [2000, 12, 30, 6, 18582],\n",
       " [2000, 12, 31, 7, 15613],\n",
       " [2001, 1, 1, 1, 15100],\n",
       " [2001, 1, 2, 2, 20981],\n",
       " [2001, 1, 3, 3, 24562],\n",
       " [2001, 1, 4, 4, 25107],\n",
       " [2001, 1, 5, 5, 25074],\n",
       " [2001, 1, 6, 6, 18199],\n",
       " [2001, 1, 7, 7, 15630],\n",
       " [2001, 1, 8, 1, 22686],\n",
       " [2001, 1, 9, 2, 24491],\n",
       " [2001, 1, 10, 3, 24615],\n",
       " [2001, 1, 11, 4, 24588],\n",
       " [2001, 1, 12, 5, 25199],\n",
       " [2001, 1, 13, 6, 17483],\n",
       " [2001, 1, 14, 7, 15492],\n",
       " [2001, 1, 15, 1, 21646],\n",
       " [2001, 1, 16, 2, 24368],\n",
       " [2001, 1, 17, 3, 24390],\n",
       " [2001, 1, 18, 4, 25010],\n",
       " [2001, 1, 19, 5, 24383],\n",
       " [2001, 1, 20, 6, 17373],\n",
       " [2001, 1, 21, 7, 15518],\n",
       " [2001, 1, 22, 1, 22663],\n",
       " [2001, 1, 23, 2, 24622],\n",
       " [2001, 1, 24, 3, 24290],\n",
       " [2001, 1, 25, 4, 24886],\n",
       " [2001, 1, 26, 5, 24184],\n",
       " [2001, 1, 27, 6, 17435],\n",
       " [2001, 1, 28, 7, 15402],\n",
       " [2001, 1, 29, 1, 22782],\n",
       " [2001, 1, 30, 2, 24725],\n",
       " [2001, 1, 31, 3, 24693],\n",
       " [2001, 2, 1, 4, 24663],\n",
       " [2001, 2, 2, 5, 24658],\n",
       " [2001, 2, 3, 6, 17126],\n",
       " [2001, 2, 4, 7, 15324],\n",
       " [2001, 2, 5, 1, 23371],\n",
       " [2001, 2, 6, 2, 24783],\n",
       " [2001, 2, 7, 3, 24434],\n",
       " [2001, 2, 8, 4, 24537],\n",
       " [2001, 2, 9, 5, 24429],\n",
       " [2001, 2, 10, 6, 17428],\n",
       " [2001, 2, 11, 7, 15000],\n",
       " [2001, 2, 12, 1, 23083],\n",
       " [2001, 2, 13, 2, 24279],\n",
       " [2001, 2, 14, 3, 26081],\n",
       " [2001, 2, 15, 4, 25039],\n",
       " [2001, 2, 16, 5, 24474],\n",
       " [2001, 2, 17, 6, 17083],\n",
       " [2001, 2, 18, 7, 14977],\n",
       " [2001, 2, 19, 1, 20878],\n",
       " [2001, 2, 20, 2, 24486],\n",
       " [2001, 2, 21, 3, 24698],\n",
       " [2001, 2, 22, 4, 24716],\n",
       " [2001, 2, 23, 5, 24282],\n",
       " [2001, 2, 24, 6, 17147],\n",
       " [2001, 2, 25, 7, 15440],\n",
       " [2001, 2, 26, 1, 22405],\n",
       " [2001, 2, 27, 2, 24402],\n",
       " [2001, 2, 28, 3, 24130],\n",
       " [2001, 3, 1, 4, 24793],\n",
       " [2001, 3, 2, 5, 24511],\n",
       " [2001, 3, 3, 6, 17696],\n",
       " [2001, 3, 4, 7, 15474],\n",
       " [2001, 3, 5, 1, 22593],\n",
       " [2001, 3, 6, 2, 24391],\n",
       " [2001, 3, 7, 3, 24445],\n",
       " [2001, 3, 8, 4, 24634],\n",
       " [2001, 3, 9, 5, 24703],\n",
       " [2001, 3, 10, 6, 17486],\n",
       " [2001, 3, 11, 7, 15261],\n",
       " [2001, 3, 12, 1, 22961],\n",
       " [2001, 3, 13, 2, 24807],\n",
       " [2001, 3, 14, 3, 24945],\n",
       " [2001, 3, 15, 4, 24811],\n",
       " [2001, 3, 16, 5, 24708],\n",
       " [2001, 3, 17, 6, 17856],\n",
       " [2001, 3, 18, 7, 14925],\n",
       " [2001, 3, 19, 1, 22451],\n",
       " [2001, 3, 20, 2, 25442],\n",
       " [2001, 3, 21, 3, 25084],\n",
       " [2001, 3, 22, 4, 24734],\n",
       " [2001, 3, 23, 5, 24645],\n",
       " [2001, 3, 24, 6, 17513],\n",
       " [2001, 3, 25, 7, 15489],\n",
       " [2001, 3, 26, 1, 22332],\n",
       " [2001, 3, 27, 2, 24898],\n",
       " [2001, 3, 28, 3, 24644],\n",
       " [2001, 3, 29, 4, 24532],\n",
       " [2001, 3, 30, 5, 23914],\n",
       " [2001, 3, 31, 6, 17351],\n",
       " [2001, 4, 1, 7, 14249],\n",
       " [2001, 4, 2, 1, 23103],\n",
       " [2001, 4, 3, 2, 25442],\n",
       " [2001, 4, 4, 3, 25064],\n",
       " [2001, 4, 5, 4, 24671],\n",
       " [2001, 4, 6, 5, 24628],\n",
       " [2001, 4, 7, 6, 17381],\n",
       " [2001, 4, 8, 7, 15312],\n",
       " [2001, 4, 9, 1, 22966],\n",
       " [2001, 4, 10, 2, 25776],\n",
       " [2001, 4, 11, 3, 25543],\n",
       " [2001, 4, 12, 4, 25244],\n",
       " [2001, 4, 13, 5, 21622],\n",
       " [2001, 4, 14, 6, 16364],\n",
       " [2001, 4, 15, 7, 14310],\n",
       " [2001, 4, 16, 1, 22222],\n",
       " [2001, 4, 17, 2, 25503],\n",
       " [2001, 4, 18, 3, 24532],\n",
       " [2001, 4, 19, 4, 24199],\n",
       " [2001, 4, 20, 5, 24343],\n",
       " [2001, 4, 21, 6, 17520],\n",
       " [2001, 4, 22, 7, 15401],\n",
       " [2001, 4, 23, 1, 23134],\n",
       " [2001, 4, 24, 2, 25701],\n",
       " [2001, 4, 25, 3, 25172],\n",
       " [2001, 4, 26, 4, 24869],\n",
       " [2001, 4, 27, 5, 24489],\n",
       " [2001, 4, 28, 6, 17048],\n",
       " [2001, 4, 29, 7, 15083],\n",
       " [2001, 4, 30, 1, 22606],\n",
       " [2001, 5, 1, 2, 25782],\n",
       " [2001, 5, 2, 3, 24831],\n",
       " [2001, 5, 3, 4, 24898],\n",
       " [2001, 5, 4, 5, 24338],\n",
       " [2001, 5, 5, 6, 17427],\n",
       " [2001, 5, 6, 7, 15862],\n",
       " [2001, 5, 7, 1, 23067],\n",
       " [2001, 5, 8, 2, 25783],\n",
       " [2001, 5, 9, 3, 24702],\n",
       " [2001, 5, 10, 4, 25030],\n",
       " [2001, 5, 11, 5, 24413],\n",
       " [2001, 5, 12, 6, 17229],\n",
       " [2001, 5, 13, 7, 14849],\n",
       " [2001, 5, 14, 1, 22920],\n",
       " [2001, 5, 15, 2, 25953],\n",
       " [2001, 5, 16, 3, 24998],\n",
       " [2001, 5, 17, 4, 25056],\n",
       " [2001, 5, 18, 5, 24445],\n",
       " [2001, 5, 19, 6, 17461],\n",
       " [2001, 5, 20, 7, 15329],\n",
       " [2001, 5, 21, 1, 23078],\n",
       " [2001, 5, 22, 2, 25832],\n",
       " [2001, 5, 23, 3, 25598],\n",
       " [2001, 5, 24, 4, 26111],\n",
       " [2001, 5, 25, 5, 25226],\n",
       " [2001, 5, 26, 6, 17701],\n",
       " [2001, 5, 27, 7, 14938],\n",
       " [2001, 5, 28, 1, 15803],\n",
       " [2001, 5, 29, 2, 23767],\n",
       " [2001, 5, 30, 3, 26446],\n",
       " [2001, 5, 31, 4, 25833],\n",
       " [2001, 6, 1, 5, 25103],\n",
       " [2001, 6, 2, 6, 17673],\n",
       " [2001, 6, 3, 7, 15649],\n",
       " [2001, 6, 4, 1, 22739],\n",
       " [2001, 6, 5, 2, 25084],\n",
       " [2001, 6, 6, 3, 25311],\n",
       " [2001, 6, 7, 4, 24899],\n",
       " [2001, 6, 8, 5, 24682],\n",
       " [2001, 6, 9, 6, 17360],\n",
       " [2001, 6, 10, 7, 15233],\n",
       " [2001, 6, 11, 1, 23297],\n",
       " [2001, 6, 12, 2, 26112],\n",
       " [2001, 6, 13, 3, 24444],\n",
       " [2001, 6, 14, 4, 25084],\n",
       " [2001, 6, 15, 5, 24586],\n",
       " [2001, 6, 16, 6, 17411],\n",
       " [2001, 6, 17, 7, 15329],\n",
       " [2001, 6, 18, 1, 23315],\n",
       " [2001, 6, 19, 2, 25302],\n",
       " [2001, 6, 20, 3, 25156],\n",
       " [2001, 6, 21, 4, 24938],\n",
       " [2001, 6, 22, 5, 24367],\n",
       " [2001, 6, 23, 6, 16756],\n",
       " [2001, 6, 24, 7, 15140],\n",
       " [2001, 6, 25, 1, 22938],\n",
       " [2001, 6, 26, 2, 25577],\n",
       " [2001, 6, 27, 3, 25369],\n",
       " [2001, 6, 28, 4, 25889],\n",
       " [2001, 6, 29, 5, 25605],\n",
       " [2001, 6, 30, 6, 18343],\n",
       " [2001, 7, 1, 7, 16098],\n",
       " [2001, 7, 2, 1, 24544],\n",
       " [2001, 7, 3, 2, 26445],\n",
       " [2001, 7, 4, 3, 19058],\n",
       " [2001, 7, 5, 4, 24795],\n",
       " [2001, 7, 6, 5, 26052],\n",
       " [2001, 7, 7, 6, 18901],\n",
       " [2001, 7, 8, 7, 16370],\n",
       " [2001, 7, 9, 1, 23830],\n",
       " [2001, 7, 10, 2, 26931],\n",
       " [2001, 7, 11, 3, 25716],\n",
       " [2001, 7, 12, 4, 26137],\n",
       " [2001, 7, 13, 5, 24165],\n",
       " [2001, 7, 14, 6, 18381],\n",
       " [2001, 7, 15, 7, 15969],\n",
       " [2001, 7, 16, 1, 24543],\n",
       " [2001, 7, 17, 2, 27014],\n",
       " [2001, 7, 18, 3, 26211],\n",
       " [2001, 7, 19, 4, 26324],\n",
       " [2001, 7, 20, 5, 25647],\n",
       " [2001, 7, 21, 6, 18599],\n",
       " [2001, 7, 22, 7, 16077],\n",
       " [2001, 7, 23, 1, 23935],\n",
       " [2001, 7, 24, 2, 26771],\n",
       " [2001, 7, 25, 3, 25773],\n",
       " [2001, 7, 26, 4, 25806],\n",
       " [2001, 7, 27, 5, 25118],\n",
       " [2001, 7, 28, 6, 18054],\n",
       " [2001, 7, 29, 7, 15679],\n",
       " [2001, 7, 30, 1, 24062],\n",
       " [2001, 7, 31, 2, 26121],\n",
       " [2001, 8, 1, 3, 25614],\n",
       " [2001, 8, 2, 4, 25943],\n",
       " [2001, 8, 3, 5, 25478],\n",
       " [2001, 8, 4, 6, 18136],\n",
       " [2001, 8, 5, 7, 16010],\n",
       " [2001, 8, 6, 1, 23743],\n",
       " [2001, 8, 7, 2, 26686],\n",
       " [2001, 8, 8, 3, 26069],\n",
       " [2001, 8, 9, 4, 26419],\n",
       " [2001, 8, 10, 5, 25927],\n",
       " [2001, 8, 11, 6, 18375],\n",
       " [2001, 8, 12, 7, 16391],\n",
       " [2001, 8, 13, 1, 23128],\n",
       " [2001, 8, 14, 2, 26362],\n",
       " [2001, 8, 15, 3, 26337],\n",
       " [2001, 8, 16, 4, 26498],\n",
       " [2001, 8, 17, 5, 25973],\n",
       " [2001, 8, 18, 6, 18391],\n",
       " [2001, 8, 19, 7, 15754],\n",
       " [2001, 8, 20, 1, 24343],\n",
       " [2001, 8, 21, 2, 26826],\n",
       " [2001, 8, 22, 3, 26001],\n",
       " [2001, 8, 23, 4, 26076],\n",
       " [2001, 8, 24, 5, 25732],\n",
       " [2001, 8, 25, 6, 18277],\n",
       " [2001, 8, 26, 7, 16092],\n",
       " [2001, 8, 27, 1, 23924],\n",
       " [2001, 8, 28, 2, 27257],\n",
       " [2001, 8, 29, 3, 26033],\n",
       " [2001, 8, 30, 4, 26752],\n",
       " [2001, 8, 31, 5, 26638],\n",
       " [2001, 9, 1, 6, 18338],\n",
       " [2001, 9, 2, 7, 16295],\n",
       " [2001, 9, 3, 1, 16065],\n",
       " [2001, 9, 4, 2, 24720],\n",
       " [2001, 9, 5, 3, 27785],\n",
       " [2001, 9, 6, 4, 27583],\n",
       " [2001, 9, 7, 5, 27186],\n",
       " [2001, 9, 8, 6, 18544],\n",
       " [2001, 9, 9, 7, 16531],\n",
       " [2001, 9, 10, 1, 24686],\n",
       " [2001, 9, 11, 2, 26828],\n",
       " [2001, 9, 12, 3, 25967],\n",
       " [2001, 9, 13, 4, 26043],\n",
       " [2001, 9, 14, 5, 26655],\n",
       " [2001, 9, 15, 6, 19132],\n",
       " [2001, 9, 16, 7, 16494],\n",
       " [2001, 9, 17, 1, 25076],\n",
       " [2001, 9, 18, 2, 26759],\n",
       " [2001, 9, 19, 3, 26819],\n",
       " [2001, 9, 20, 4, 27185],\n",
       " [2001, 9, 21, 5, 26375],\n",
       " [2001, 9, 22, 6, 19004],\n",
       " [2001, 9, 23, 7, 16836],\n",
       " [2001, 9, 24, 1, 24856],\n",
       " [2001, 9, 25, 2, 27758],\n",
       " [2001, 9, 26, 3, 26572],\n",
       " [2001, 9, 27, 4, 26164],\n",
       " [2001, 9, 28, 5, 26099],\n",
       " [2001, 9, 29, 6, 18286],\n",
       " [2001, 9, 30, 7, 15911],\n",
       " [2001, 10, 1, 1, 24534],\n",
       " [2001, 10, 2, 2, 26712],\n",
       " [2001, 10, 3, 3, 25812],\n",
       " [2001, 10, 4, 4, 26142],\n",
       " [2001, 10, 5, 5, 25440],\n",
       " [2001, 10, 6, 6, 17597],\n",
       " [2001, 10, 7, 7, 15365],\n",
       " [2001, 10, 8, 1, 22829],\n",
       " [2001, 10, 9, 2, 25466],\n",
       " [2001, 10, 10, 3, 25373],\n",
       " [2001, 10, 11, 4, 24872],\n",
       " [2001, 10, 12, 5, 25136],\n",
       " [2001, 10, 13, 6, 17185],\n",
       " [2001, 10, 14, 7, 15364],\n",
       " [2001, 10, 15, 1, 23043],\n",
       " [2001, 10, 16, 2, 25247],\n",
       " [2001, 10, 17, 3, 24896],\n",
       " [2001, 10, 18, 4, 24895],\n",
       " [2001, 10, 19, 5, 24480],\n",
       " [2001, 10, 20, 6, 17310],\n",
       " [2001, 10, 21, 7, 14837],\n",
       " [2001, 10, 22, 1, 23151],\n",
       " [2001, 10, 23, 2, 25467],\n",
       " [2001, 10, 24, 3, 25040],\n",
       " [2001, 10, 25, 4, 24736],\n",
       " [2001, 10, 26, 5, 24292],\n",
       " [2001, 10, 27, 6, 16750],\n",
       " [2001, 10, 28, 7, 15198],\n",
       " [2001, 10, 29, 1, 22532],\n",
       " [2001, 10, 30, 2, 24711],\n",
       " [2001, 10, 31, 3, 21514],\n",
       " [2001, 11, 1, 4, 25438],\n",
       " [2001, 11, 2, 5, 24430],\n",
       " [2001, 11, 3, 6, 17006],\n",
       " [2001, 11, 4, 7, 14925],\n",
       " [2001, 11, 5, 1, 23070],\n",
       " [2001, 11, 6, 2, 25007],\n",
       " [2001, 11, 7, 3, 24528],\n",
       " [2001, 11, 8, 4, 24752],\n",
       " [2001, 11, 9, 5, 24601],\n",
       " [2001, 11, 10, 6, 17194],\n",
       " [2001, 11, 11, 7, 15057],\n",
       " [2001, 11, 12, 1, 23093],\n",
       " [2001, 11, 13, 2, 24448],\n",
       " [2001, 11, 14, 3, 24860],\n",
       " [2001, 11, 15, 4, 25572],\n",
       " [2001, 11, 16, 5, 25687],\n",
       " [2001, 11, 17, 6, 17333],\n",
       " [2001, 11, 18, 7, 14866],\n",
       " [2001, 11, 19, 1, 25196],\n",
       " [2001, 11, 20, 2, 26855],\n",
       " [2001, 11, 21, 3, 23985],\n",
       " [2001, 11, 22, 4, 14876],\n",
       " [2001, 11, 23, 5, 18926],\n",
       " [2001, 11, 24, 6, 16016],\n",
       " [2001, 11, 25, 7, 14746],\n",
       " [2001, 11, 26, 1, 23230],\n",
       " [2001, 11, 27, 2, 26179],\n",
       " [2001, 11, 28, 3, 24723],\n",
       " [2001, 11, 29, 4, 24654],\n",
       " [2001, 11, 30, 5, 23769],\n",
       " [2001, 12, 1, 6, 16293],\n",
       " [2001, 12, 2, 7, 14601],\n",
       " [2001, 12, 3, 1, 22823],\n",
       " [2001, 12, 4, 2, 24898],\n",
       " [2001, 12, 5, 3, 24916],\n",
       " [2001, 12, 6, 4, 24080],\n",
       " [2001, 12, 7, 5, 23117],\n",
       " [2001, 12, 8, 6, 16561],\n",
       " [2001, 12, 9, 7, 14831],\n",
       " [2001, 12, 10, 1, 23000],\n",
       " [2001, 12, 11, 2, 25205],\n",
       " [2001, 12, 12, 3, 25394],\n",
       " [2001, 12, 13, 4, 24178],\n",
       " [2001, 12, 14, 5, 24548],\n",
       " [2001, 12, 15, 6, 17062],\n",
       " [2001, 12, 16, 7, 14741],\n",
       " [2001, 12, 17, 1, 24441],\n",
       " [2001, 12, 18, 2, 26957],\n",
       " [2001, 12, 19, 3, 26476],\n",
       " [2001, 12, 20, 4, 27429],\n",
       " [2001, 12, 21, 5, 26715],\n",
       " [2001, 12, 22, 6, 17941],\n",
       " [2001, 12, 23, 7, 14327],\n",
       " [2001, 12, 24, 1, 15074],\n",
       " [2001, 12, 25, 2, 13046],\n",
       " [2001, 12, 26, 3, 21775],\n",
       " [2001, 12, 27, 4, 27913],\n",
       " [2001, 12, 28, 5, 28153],\n",
       " [2001, 12, 29, 6, 18928],\n",
       " [2001, 12, 30, 7, 15519],\n",
       " [2001, 12, 31, 1, 20290],\n",
       " [2002, 1, 1, 2, 15717],\n",
       " [2002, 1, 2, 3, 21143],\n",
       " [2002, 1, 3, 4, 24599],\n",
       " [2002, 1, 4, 5, 25104],\n",
       " [2002, 1, 5, 6, 17662],\n",
       " [2002, 1, 6, 7, 15152],\n",
       " [2002, 1, 7, 1, 22919],\n",
       " [2002, 1, 8, 2, 24763],\n",
       " [2002, 1, 9, 3, 23045],\n",
       " [2002, 1, 10, 4, 24914],\n",
       " [2002, 1, 11, 5, 24324],\n",
       " [2002, 1, 12, 6, 16990],\n",
       " [2002, 1, 13, 7, 14826],\n",
       " [2002, 1, 14, 1, 22874],\n",
       " [2002, 1, 15, 2, 24470],\n",
       " [2002, 1, 16, 3, 23693],\n",
       " [2002, 1, 17, 4, 24489],\n",
       " [2002, 1, 18, 5, 24266],\n",
       " [2002, 1, 19, 6, 16735],\n",
       " [2002, 1, 20, 7, 14800],\n",
       " [2002, 1, 21, 1, 21662],\n",
       " [2002, 1, 22, 2, 24465],\n",
       " [2002, 1, 23, 3, 24222],\n",
       " [2002, 1, 24, 4, 24784],\n",
       " [2002, 1, 25, 5, 23936],\n",
       " [2002, 1, 26, 6, 16930],\n",
       " [2002, 1, 27, 7, 14897],\n",
       " [2002, 1, 28, 1, 22493],\n",
       " [2002, 1, 29, 2, 24178],\n",
       " [2002, 1, 30, 3, 24048],\n",
       " [2002, 1, 31, 4, 24046],\n",
       " [2002, 2, 1, 5, 24073],\n",
       " [2002, 2, 2, 6, 17820],\n",
       " [2002, 2, 3, 7, 14764],\n",
       " [2002, 2, 4, 1, 22588],\n",
       " [2002, 2, 5, 2, 24730],\n",
       " [2002, 2, 6, 3, 24144],\n",
       " [2002, 2, 7, 4, 24575],\n",
       " [2002, 2, 8, 5, 24667],\n",
       " [2002, 2, 9, 6, 17295],\n",
       " [2002, 2, 10, 7, 15030],\n",
       " [2002, 2, 11, 1, 22895],\n",
       " [2002, 2, 12, 2, 25246],\n",
       " [2002, 2, 13, 3, 23883],\n",
       " [2002, 2, 14, 4, 25847],\n",
       " [2002, 2, 15, 5, 24882],\n",
       " [2002, 2, 16, 6, 17273],\n",
       " [2002, 2, 17, 7, 14794],\n",
       " [2002, 2, 18, 1, 21636],\n",
       " [2002, 2, 19, 2, 24315],\n",
       " [2002, 2, 20, 3, 25333],\n",
       " [2002, 2, 21, 4, 24550],\n",
       " [2002, 2, 22, 5, 25126],\n",
       " [2002, 2, 23, 6, 17154],\n",
       " [2002, 2, 24, 7, 14860],\n",
       " [2002, 2, 25, 1, 22869],\n",
       " [2002, 2, 26, 2, 24714],\n",
       " [2002, 2, 27, 3, 24358],\n",
       " [2002, 2, 28, 4, 24466],\n",
       " [2002, 3, 1, 5, 24602],\n",
       " [2002, 3, 2, 6, 16817],\n",
       " [2002, 3, 3, 7, 15121],\n",
       " [2002, 3, 4, 1, 23083],\n",
       " [2002, 3, 5, 2, 25113],\n",
       " [2002, 3, 6, 3, 24524],\n",
       " [2002, 3, 7, 4, 24824],\n",
       " [2002, 3, 8, 5, 24281],\n",
       " [2002, 3, 9, 6, 17076],\n",
       " [2002, 3, 10, 7, 15162],\n",
       " [2002, 3, 11, 1, 22186],\n",
       " [2002, 3, 12, 2, 25051],\n",
       " [2002, 3, 13, 3, 23841],\n",
       " [2002, 3, 14, 4, 24941],\n",
       " [2002, 3, 15, 5, 24721],\n",
       " [2002, 3, 16, 6, 17292],\n",
       " [2002, 3, 17, 7, 15206],\n",
       " [2002, 3, 18, 1, 23055],\n",
       " [2002, 3, 19, 2, 25113],\n",
       " [2002, 3, 20, 3, 24855],\n",
       " [2002, 3, 21, 4, 24751],\n",
       " [2002, 3, 22, 5, 24308],\n",
       " [2002, 3, 23, 6, 17035],\n",
       " [2002, 3, 24, 7, 14733],\n",
       " [2002, 3, 25, 1, 22799],\n",
       " [2002, 3, 26, 2, 25402],\n",
       " [2002, 3, 27, 3, 24921],\n",
       " [2002, 3, 28, 4, 24719],\n",
       " [2002, 3, 29, 5, 22773],\n",
       " [2002, 3, 30, 6, 16447],\n",
       " [2002, 3, 31, 7, 14102],\n",
       " [2002, 4, 1, 1, 20354],\n",
       " [2002, 4, 2, 2, 25444],\n",
       " [2002, 4, 3, 3, 24519],\n",
       " [2002, 4, 4, 4, 24323],\n",
       " [2002, 4, 5, 5, 23818],\n",
       " [2002, 4, 6, 6, 16492],\n",
       " [2002, 4, 7, 7, 14117],\n",
       " [2002, 4, 8, 1, 23184],\n",
       " [2002, 4, 9, 2, 25206],\n",
       " [2002, 4, 10, 3, 24606],\n",
       " [2002, 4, 11, 4, 24276],\n",
       " [2002, 4, 12, 5, 24342],\n",
       " [2002, 4, 13, 6, 16793],\n",
       " [2002, 4, 14, 7, 15060],\n",
       " [2002, 4, 15, 1, 22632],\n",
       " [2002, 4, 16, 2, 25433],\n",
       " [2002, 4, 17, 3, 24846],\n",
       " [2002, 4, 18, 4, 24709],\n",
       " [2002, 4, 19, 5, 24351],\n",
       " [2002, 4, 20, 6, 16337],\n",
       " [2002, 4, 21, 7, 14503],\n",
       " [2002, 4, 22, 1, 22941],\n",
       " [2002, 4, 23, 2, 24712],\n",
       " [2002, 4, 24, 3, 24363],\n",
       " [2002, 4, 25, 4, 24718],\n",
       " [2002, 4, 26, 5, 23654],\n",
       " [2002, 4, 27, 6, 16370],\n",
       " [2002, 4, 28, 7, 14919],\n",
       " [2002, 4, 29, 1, 22652],\n",
       " [2002, 4, 30, 2, 25047],\n",
       " [2002, 5, 1, 3, 24377],\n",
       " [2002, 5, 2, 4, 24562],\n",
       " [2002, 5, 3, 5, 24053],\n",
       " [2002, 5, 4, 6, 16319],\n",
       " [2002, 5, 5, 7, 14785],\n",
       " [2002, 5, 6, 1, 22529],\n",
       " [2002, 5, 7, 2, 24770],\n",
       " [2002, 5, 8, 3, 24416],\n",
       " [2002, 5, 9, 4, 24254],\n",
       " [2002, 5, 10, 5, 24469],\n",
       " [2002, 5, 11, 6, 16545],\n",
       " [2002, 5, 12, 7, 14857],\n",
       " [2002, 5, 13, 1, 22639],\n",
       " [2002, 5, 14, 2, 25564],\n",
       " [2002, 5, 15, 3, 25194],\n",
       " [2002, 5, 16, 4, 24983],\n",
       " [2002, 5, 17, 5, 24181],\n",
       " [2002, 5, 18, 6, 16948],\n",
       " [2002, 5, 19, 7, 14828],\n",
       " [2002, 5, 20, 1, 23356],\n",
       " [2002, 5, 21, 2, 25591],\n",
       " [2002, 5, 22, 3, 25133],\n",
       " [2002, 5, 23, 4, 25994],\n",
       " [2002, 5, 24, 5, 25344],\n",
       " [2002, 5, 25, 6, 16889],\n",
       " [2002, 5, 26, 7, 14503],\n",
       " [2002, 5, 27, 1, 15432],\n",
       " [2002, 5, 28, 2, 24071],\n",
       " [2002, 5, 29, 3, 26649],\n",
       " [2002, 5, 30, 4, 25701],\n",
       " [2002, 5, 31, 5, 24922],\n",
       " [2002, 6, 1, 6, 16957],\n",
       " [2002, 6, 2, 7, 15131],\n",
       " [2002, 6, 3, 1, 22706],\n",
       " [2002, 6, 4, 2, 25007],\n",
       " [2002, 6, 5, 3, 25096],\n",
       " [2002, 6, 6, 4, 25223],\n",
       " [2002, 6, 7, 5, 24347],\n",
       " [2002, 6, 8, 6, 16916],\n",
       " [2002, 6, 9, 7, 14886],\n",
       " [2002, 6, 10, 1, 23527],\n",
       " [2002, 6, 11, 2, 25177],\n",
       " [2002, 6, 12, 3, 25257],\n",
       " [2002, 6, 13, 4, 24710],\n",
       " [2002, 6, 14, 5, 24926],\n",
       " [2002, 6, 15, 6, 17301],\n",
       " [2002, 6, 16, 7, 15260],\n",
       " [2002, 6, 17, 1, 23220],\n",
       " [2002, 6, 18, 2, 26037],\n",
       " [2002, 6, 19, 3, 24948],\n",
       " [2002, 6, 20, 4, 25480],\n",
       " [2002, 6, 21, 5, 24540],\n",
       " [2002, 6, 22, 6, 17252],\n",
       " [2002, 6, 23, 7, 15218],\n",
       " [2002, 6, 24, 1, 23696],\n",
       " [2002, 6, 25, 2, 26593],\n",
       " [2002, 6, 26, 3, 26017],\n",
       " [2002, 6, 27, 4, 26412],\n",
       " [2002, 6, 28, 5, 25775],\n",
       " [2002, 6, 29, 6, 17835],\n",
       " [2002, 6, 30, 7, 15570],\n",
       " [2002, 7, 1, 1, 24981],\n",
       " [2002, 7, 2, 2, 28049],\n",
       " [2002, 7, 3, 3, 27019],\n",
       " [2002, 7, 4, 4, 18827],\n",
       " [2002, 7, 5, 5, 22457],\n",
       " [2002, 7, 6, 6, 17531],\n",
       " [2002, 7, 7, 7, 16031],\n",
       " [2002, 7, 8, 1, 24313],\n",
       " [2002, 7, 9, 2, 27370],\n",
       " [2002, 7, 10, 3, 26262],\n",
       " [2002, 7, 11, 4, 26189],\n",
       " [2002, 7, 12, 5, 25265],\n",
       " [2002, 7, 13, 6, 17674],\n",
       " [2002, 7, 14, 7, 15665],\n",
       " [2002, 7, 15, 1, 24546],\n",
       " [2002, 7, 16, 2, 26958],\n",
       " [2002, 7, 17, 3, 26466],\n",
       " [2002, 7, 18, 4, 26578],\n",
       " [2002, 7, 19, 5, 25568],\n",
       " [2002, 7, 20, 6, 17483],\n",
       " [2002, 7, 21, 7, 15777],\n",
       " [2002, 7, 22, 1, 24143],\n",
       " [2002, 7, 23, 2, 26948],\n",
       " [2002, 7, 24, 3, 26200],\n",
       " [2002, 7, 25, 4, 26536],\n",
       " [2002, 7, 26, 5, 25659],\n",
       " [2002, 7, 27, 6, 17997],\n",
       " [2002, 7, 28, 7, 15727],\n",
       " [2002, 7, 29, 1, 24109],\n",
       " [2002, 7, 30, 2, 26935],\n",
       " [2002, 7, 31, 3, 26366],\n",
       " [2002, 8, 1, 4, 26309],\n",
       " [2002, 8, 2, 5, 25977],\n",
       " [2002, 8, 3, 6, 17820],\n",
       " [2002, 8, 4, 7, 15522],\n",
       " [2002, 8, 5, 1, 24129],\n",
       " [2002, 8, 6, 2, 26562],\n",
       " [2002, 8, 7, 3, 25799],\n",
       " [2002, 8, 8, 4, 26550],\n",
       " [2002, 8, 9, 5, 25557],\n",
       " [2002, 8, 10, 6, 18007],\n",
       " [2002, 8, 11, 7, 15839],\n",
       " [2002, 8, 12, 1, 24421],\n",
       " [2002, 8, 13, 2, 26887],\n",
       " [2002, 8, 14, 3, 26330],\n",
       " [2002, 8, 15, 4, 26828],\n",
       " [2002, 8, 16, 5, 26024],\n",
       " [2002, 8, 17, 6, 18436],\n",
       " [2002, 8, 18, 7, 15737],\n",
       " [2002, 8, 19, 1, 24339],\n",
       " [2002, 8, 20, 2, 27280],\n",
       " [2002, 8, 21, 3, 26425],\n",
       " [2002, 8, 22, 4, 26196],\n",
       " [2002, 8, 23, 5, 26067],\n",
       " [2002, 8, 24, 6, 18018],\n",
       " [2002, 8, 25, 7, 15794],\n",
       " [2002, 8, 26, 1, 24148],\n",
       " [2002, 8, 27, 2, 27292],\n",
       " [2002, 8, 28, 3, 26507],\n",
       " [2002, 8, 29, 4, 26569],\n",
       " [2002, 8, 30, 5, 26354],\n",
       " [2002, 8, 31, 6, 18103],\n",
       " [2002, 9, 1, 7, 15787],\n",
       " [2002, 9, 2, 1, 16382],\n",
       " [2002, 9, 3, 2, 24938],\n",
       " [2002, 9, 4, 3, 27644],\n",
       " [2002, 9, 5, 4, 27772],\n",
       " [2002, 9, 6, 5, 27079],\n",
       " [2002, 9, 7, 6, 18592],\n",
       " [2002, 9, 8, 7, 16033],\n",
       " [2002, 9, 9, 1, 25494],\n",
       " [2002, 9, 10, 2, 27584],\n",
       " [2002, 9, 11, 3, 25026],\n",
       " [2002, 9, 12, 4, 28229],\n",
       " [2002, 9, 13, 5, 25814],\n",
       " [2002, 9, 14, 6, 18646],\n",
       " [2002, 9, 15, 7, 16764],\n",
       " [2002, 9, 16, 1, 25313],\n",
       " [2002, 9, 17, 2, 28124],\n",
       " [2002, 9, 18, 3, 27608],\n",
       " [2002, 9, 19, 4, 27519],\n",
       " [2002, 9, 20, 5, 27176],\n",
       " [2002, 9, 21, 6, 19049],\n",
       " [2002, 9, 22, 7, 16313],\n",
       " [2002, 9, 23, 1, 25359],\n",
       " [2002, 9, 24, 2, 28089],\n",
       " [2002, 9, 25, 3, 26746],\n",
       " [2002, 9, 26, 4, 26680],\n",
       " ...]"
      ]
     },
     "execution_count": 48,
     "metadata": {},
     "output_type": "execute_result"
    }
   ],
   "source": [
    "middle_rows"
   ]
  },
  {
   "cell_type": "code",
   "execution_count": 51,
   "metadata": {},
   "outputs": [
    {
     "ename": "IndentationError",
     "evalue": "unexpected indent (<ipython-input-51-fcd2d5af74e4>, line 2)",
     "output_type": "error",
     "traceback": [
      "\u001b[0;36m  File \u001b[0;32m\"<ipython-input-51-fcd2d5af74e4>\"\u001b[0;36m, line \u001b[0;32m2\u001b[0m\n\u001b[0;31m    if ((value1[0]==value2[0]) and (value1[1]==value2[1]) and (value1[2]==value2[2]) and (value1[3]==value2[3])):\u001b[0m\n\u001b[0m    ^\u001b[0m\n\u001b[0;31mIndentationError\u001b[0m\u001b[0;31m:\u001b[0m unexpected indent\n"
     ]
    }
   ],
   "source": [
    "    final_rows.append(value1)\n",
    "        if ((value1[0]==value2[0]) and (value1[1]==value2[1]) and (value1[2]==value2[2]) and (value1[3]==value2[3])):\n",
    "            total = value1[4] + value2[4]\n",
    "            new_row = [value1[0], value1[1], value1[2], value1[3], total]\n",
    "            final_rows.append(new_row)        "
   ]
  },
  {
   "cell_type": "code",
   "execution_count": null,
   "metadata": {
    "collapsed": true
   },
   "outputs": [],
   "source": [
    "!git add \"U.S. Births Project.ipynb\""
   ]
  },
  {
   "cell_type": "code",
   "execution_count": null,
   "metadata": {},
   "outputs": [],
   "source": [
    "!git commit -m \"Combining Data Commit\""
   ]
  },
  {
   "cell_type": "code",
   "execution_count": 50,
   "metadata": {},
   "outputs": [
    {
     "name": "stdout",
     "output_type": "stream",
     "text": [
      "Everything up-to-date\r\n"
     ]
    }
   ],
   "source": [
    "!git push origin master"
   ]
  },
  {
   "cell_type": "code",
   "execution_count": null,
   "metadata": {
    "collapsed": true
   },
   "outputs": [],
   "source": []
  },
  {
   "cell_type": "code",
   "execution_count": null,
   "metadata": {
    "collapsed": true
   },
   "outputs": [],
   "source": []
  }
 ],
 "metadata": {
  "kernelspec": {
   "display_name": "Python 2",
   "language": "python",
   "name": "python2"
  },
  "language_info": {
   "codemirror_mode": {
    "name": "ipython",
    "version": 2
   },
   "file_extension": ".py",
   "mimetype": "text/x-python",
   "name": "python",
   "nbconvert_exporter": "python",
   "pygments_lexer": "ipython2",
   "version": "2.7.13"
  }
 },
 "nbformat": 4,
 "nbformat_minor": 2
}
