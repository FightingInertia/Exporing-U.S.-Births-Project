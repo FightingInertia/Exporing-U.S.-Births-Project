{
 "cells": [
  {
   "cell_type": "markdown",
   "metadata": {},
   "source": [
    "# Exploring U.S. Births Project"
   ]
  },
  {
   "cell_type": "markdown",
   "metadata": {},
   "source": [
    "### Checking directory for files"
   ]
  },
  {
   "cell_type": "code",
   "execution_count": 1,
   "metadata": {
    "collapsed": true
   },
   "outputs": [],
   "source": [
    "import matplotlib.pyplot as plt\n",
    "%matplotlib inline"
   ]
  },
  {
   "cell_type": "code",
   "execution_count": 2,
   "metadata": {},
   "outputs": [
    {
     "name": "stdout",
     "output_type": "stream",
     "text": [
      "\u001b[1m\u001b[32mBasics.ipynb\u001b[m\u001b[m                     \u001b[1m\u001b[32mUS_births_1994-2003_CDC_NCHS.csv\u001b[m\u001b[m\r\n",
      "Births.ipynb                     \u001b[1m\u001b[32mUS_births_2000-2014_SSA.csv\u001b[m\u001b[m\r\n",
      "README.md                        Untitled.ipynb\r\n",
      "U.S. Births Project.ipynb\r\n"
     ]
    }
   ],
   "source": [
    "!ls"
   ]
  },
  {
   "cell_type": "markdown",
   "metadata": {},
   "source": [
    "### Reading US Births File in as a String To Data Variable"
   ]
  },
  {
   "cell_type": "code",
   "execution_count": 3,
   "metadata": {
    "collapsed": true
   },
   "outputs": [],
   "source": [
    "f = open('US_births_1994-2003_CDC_NCHS.csv', 'r')"
   ]
  },
  {
   "cell_type": "code",
   "execution_count": 4,
   "metadata": {
    "collapsed": true
   },
   "outputs": [],
   "source": [
    "data = f.read()"
   ]
  },
  {
   "cell_type": "code",
   "execution_count": 5,
   "metadata": {},
   "outputs": [
    {
     "data": {
      "text/plain": [
       "'year,month,date_of_month,day_of_week,births\\r1994,1,1,6,8096\\r1994,1,2,7,7772\\r1994,1,3,1,10142\\r1994,1,'"
      ]
     },
     "execution_count": 5,
     "metadata": {},
     "output_type": "execute_result"
    }
   ],
   "source": [
    "data[0:100]"
   ]
  },
  {
   "cell_type": "markdown",
   "metadata": {},
   "source": [
    "### Splitting Data String on New Line Character '\\n' or '\\r'"
   ]
  },
  {
   "cell_type": "code",
   "execution_count": 6,
   "metadata": {
    "collapsed": true
   },
   "outputs": [],
   "source": [
    "data = data.split('\\r')"
   ]
  },
  {
   "cell_type": "markdown",
   "metadata": {},
   "source": [
    "### The Columns in this Data Set are Year, Month, Day of Month, Day of Week, and Births"
   ]
  },
  {
   "cell_type": "markdown",
   "metadata": {},
   "source": [
    "### Displaying First Few Lines of Data"
   ]
  },
  {
   "cell_type": "code",
   "execution_count": 7,
   "metadata": {},
   "outputs": [
    {
     "data": {
      "text/plain": [
       "['year,month,date_of_month,day_of_week,births',\n",
       " '1994,1,1,6,8096',\n",
       " '1994,1,2,7,7772',\n",
       " '1994,1,3,1,10142',\n",
       " '1994,1,4,2,11248']"
      ]
     },
     "execution_count": 7,
     "metadata": {},
     "output_type": "execute_result"
    }
   ],
   "source": [
    "data[0:5]"
   ]
  },
  {
   "cell_type": "markdown",
   "metadata": {},
   "source": [
    "### Removing the Header Row"
   ]
  },
  {
   "cell_type": "code",
   "execution_count": 8,
   "metadata": {
    "collapsed": true
   },
   "outputs": [],
   "source": [
    "data = data[1:]"
   ]
  },
  {
   "cell_type": "markdown",
   "metadata": {},
   "source": [
    "### Displaying Data without the Header"
   ]
  },
  {
   "cell_type": "code",
   "execution_count": 9,
   "metadata": {},
   "outputs": [
    {
     "data": {
      "text/plain": [
       "['1994,1,1,6,8096',\n",
       " '1994,1,2,7,7772',\n",
       " '1994,1,3,1,10142',\n",
       " '1994,1,4,2,11248',\n",
       " '1994,1,5,3,11053']"
      ]
     },
     "execution_count": 9,
     "metadata": {},
     "output_type": "execute_result"
    }
   ],
   "source": [
    "data[0:5]"
   ]
  },
  {
   "cell_type": "markdown",
   "metadata": {},
   "source": [
    "### Initializing an Empty List"
   ]
  },
  {
   "cell_type": "code",
   "execution_count": 10,
   "metadata": {
    "collapsed": true
   },
   "outputs": [],
   "source": [
    "final_data = []                        ### Initializing an empty list to contain all rows from data as integers"
   ]
  },
  {
   "cell_type": "markdown",
   "metadata": {},
   "source": [
    "### Splitting Rows into Integer Column Data Using For Loop, the .split and .append Commands"
   ]
  },
  {
   "cell_type": "code",
   "execution_count": 11,
   "metadata": {
    "collapsed": true
   },
   "outputs": [],
   "source": [
    "for row in data:                       ### Looping through rows of data\n",
    "    string_fields = row.split(',')     ### Spliting each row with the ',' delimiter\n",
    "    int_field = []                     ### Initializing and resetting an empty list to store str to int columns\n",
    "    for sf in string_fields:           ### Looping through the 5 columns of string data\n",
    "        int_sf = int(sf)               ### Converting the column string data to integers   \n",
    "        int_field.append(int_sf)       ### Building a new row of strings to ints   \n",
    "    final_data.append(int_field)       ### Adding the completed row of strings to ints to final_list"
   ]
  },
  {
   "cell_type": "markdown",
   "metadata": {},
   "source": [
    "### Displaying First Few Rows of data"
   ]
  },
  {
   "cell_type": "code",
   "execution_count": 12,
   "metadata": {},
   "outputs": [
    {
     "data": {
      "text/plain": [
       "[[1994, 1, 1, 6, 8096],\n",
       " [1994, 1, 2, 7, 7772],\n",
       " [1994, 1, 3, 1, 10142],\n",
       " [1994, 1, 4, 2, 11248],\n",
       " [1994, 1, 5, 3, 11053]]"
      ]
     },
     "execution_count": 12,
     "metadata": {},
     "output_type": "execute_result"
    }
   ],
   "source": [
    "final_data[0:5]"
   ]
  },
  {
   "cell_type": "markdown",
   "metadata": {},
   "source": [
    "### Confirming data are integers"
   ]
  },
  {
   "cell_type": "code",
   "execution_count": 13,
   "metadata": {},
   "outputs": [
    {
     "data": {
      "text/plain": [
       "int"
      ]
     },
     "execution_count": 13,
     "metadata": {},
     "output_type": "execute_result"
    }
   ],
   "source": [
    "type(final_data[0][3])"
   ]
  },
  {
   "cell_type": "markdown",
   "metadata": {},
   "source": [
    "### Create a Function that Opens a File and Manipulates Data into a List of Lists"
   ]
  },
  {
   "cell_type": "code",
   "execution_count": 14,
   "metadata": {
    "collapsed": true
   },
   "outputs": [],
   "source": [
    "def Read_Csv(filename):\n",
    "    \n",
    "    final_data = []\n",
    "    \n",
    "    data = open(filename, 'r').read().split('\\r')[1:] ### Reading in file and removing header\n",
    "    for row in data:                          ### Looping through rows of data\n",
    "        string_fields = row.split(',')        ### Spliting each row with the ',' delimiter\n",
    "        int_field = []                        ### Initializing and resetting an empty list to store str to int columns\n",
    "        for sf in string_fields:              ### Looping through the 5 columns of string data\n",
    "            int_sf = int(sf)                  ### Converting the column string data to integers   \n",
    "            int_field.append(int_sf)          ### Building a new row of strings to ints   \n",
    "        final_data.append(int_field)\n",
    "    \n",
    "    return final_data"
   ]
  },
  {
   "cell_type": "markdown",
   "metadata": {},
   "source": [
    "### Displaying the First Few Lines of Data"
   ]
  },
  {
   "cell_type": "code",
   "execution_count": 15,
   "metadata": {},
   "outputs": [
    {
     "data": {
      "text/plain": [
       "[[1994, 1, 1, 6, 8096],\n",
       " [1994, 1, 2, 7, 7772],\n",
       " [1994, 1, 3, 1, 10142],\n",
       " [1994, 1, 4, 2, 11248],\n",
       " [1994, 1, 5, 3, 11053]]"
      ]
     },
     "execution_count": 15,
     "metadata": {},
     "output_type": "execute_result"
    }
   ],
   "source": [
    "Read_Csv('US_births_1994-2003_CDC_NCHS.csv')[0:5]"
   ]
  },
  {
   "cell_type": "markdown",
   "metadata": {},
   "source": [
    "### Creating a Function to Calculate the Number of Births Per Month Using For a Loop and Dictionary"
   ]
  },
  {
   "cell_type": "code",
   "execution_count": 16,
   "metadata": {
    "collapsed": true
   },
   "outputs": [],
   "source": [
    "def month_births(lizt):                         ### Function takes in a list\n",
    "    births_per_month = {}                       ### Initializing an empty dictionary to count births per month\n",
    "    for row in lizt:                            ### Looping through rows\n",
    "        if row[1] in births_per_month:          ### If the month is already in the dictionary key, then\n",
    "            births_per_month[row[1]] += row[4]  ### add the births of that day into that month key\n",
    "        else:\n",
    "            births_per_month[row[1]] = row[4]   ### else assign the births values that day to the month key\n",
    "            \n",
    "    return births_per_month                     ### return the month_births dictionary"
   ]
  },
  {
   "cell_type": "markdown",
   "metadata": {},
   "source": [
    "### Total Births Per Month Dictionary...the Key is the Month. The Value is the number of Births that Month"
   ]
  },
  {
   "cell_type": "code",
   "execution_count": 17,
   "metadata": {},
   "outputs": [
    {
     "data": {
      "text/plain": [
       "{1: 3232517,\n",
       " 2: 3018140,\n",
       " 3: 3322069,\n",
       " 4: 3185314,\n",
       " 5: 3350907,\n",
       " 6: 3296530,\n",
       " 7: 3498783,\n",
       " 8: 3525858,\n",
       " 9: 3439698,\n",
       " 10: 3378814,\n",
       " 11: 3171647,\n",
       " 12: 3301860}"
      ]
     },
     "execution_count": 17,
     "metadata": {},
     "output_type": "execute_result"
    }
   ],
   "source": [
    "cdc_months_birth = month_births(final_data)\n",
    "cdc_months_birth"
   ]
  },
  {
   "cell_type": "markdown",
   "metadata": {},
   "source": [
    "### Creating a Function To Calculate the Number of Births Per Day of Week"
   ]
  },
  {
   "cell_type": "code",
   "execution_count": 18,
   "metadata": {
    "collapsed": true
   },
   "outputs": [],
   "source": [
    "def dow_births(lizt):                           ### Function takes in a list\n",
    "    dow_births = {}                             ### Initializing an empty dictionary to count day of week births\n",
    "    for row in lizt:                            ### Looping through rows\n",
    "        if row[3] in dow_births:                ### If the day of week is already in the dictionary key, then\n",
    "            dow_births[row[3]] += row[4]        ### add the births of that day into that day of week key\n",
    "        else:\n",
    "            dow_births[row[3]] = row[4]         ### else assign the births values to that day to the week key\n",
    "            \n",
    "    return dow_births  "
   ]
  },
  {
   "cell_type": "markdown",
   "metadata": {},
   "source": [
    "### Total Births Per Day of Week Dictionary...the Key is the Day of the Week. The value is the Number Births"
   ]
  },
  {
   "cell_type": "code",
   "execution_count": 19,
   "metadata": {},
   "outputs": [
    {
     "data": {
      "text/plain": [
       "{1: 5789166,\n",
       " 2: 6446196,\n",
       " 3: 6322855,\n",
       " 4: 6288429,\n",
       " 5: 6233657,\n",
       " 6: 4562111,\n",
       " 7: 4079723}"
      ]
     },
     "execution_count": 19,
     "metadata": {},
     "output_type": "execute_result"
    }
   ],
   "source": [
    "cdc_day_births = dow_births(final_data)\n",
    "cdc_day_births"
   ]
  },
  {
   "cell_type": "markdown",
   "metadata": {},
   "source": [
    "### Creating a More Flexible Function To Group Births Per Unit of Time By"
   ]
  },
  {
   "cell_type": "code",
   "execution_count": 20,
   "metadata": {
    "collapsed": true
   },
   "outputs": [],
   "source": [
    "def calc_count(data, column):                    ### data is 4 time columns and 1 births column, column is the column number\n",
    "    column_births = {}                           ### column births is the dictionary by which to group by\n",
    "    for row in data:                             ### looping through rows\n",
    "        if row[column] in column_births:         ### Using the column number as the keys to the dictionary\n",
    "            column_births[row[column]] += row[4] ### if the column is in the dict.keys then add the births\n",
    "        else:\n",
    "            column_births[row[column]] = row[4]  ### if the column isn't in the dict.keys assign the births value\n",
    "    \n",
    "    return column_births                         ### return the column birth dictionary"
   ]
  },
  {
   "cell_type": "markdown",
   "metadata": {},
   "source": [
    "### Using the Calc_count Function to Calculate Births Per Year"
   ]
  },
  {
   "cell_type": "code",
   "execution_count": 21,
   "metadata": {},
   "outputs": [
    {
     "data": {
      "text/plain": [
       "{1994: 3952767,\n",
       " 1995: 3899589,\n",
       " 1996: 3891494,\n",
       " 1997: 3880894,\n",
       " 1998: 3941553,\n",
       " 1999: 3959417,\n",
       " 2000: 4058814,\n",
       " 2001: 4025933,\n",
       " 2002: 4021726,\n",
       " 2003: 4089950}"
      ]
     },
     "execution_count": 21,
     "metadata": {},
     "output_type": "execute_result"
    }
   ],
   "source": [
    "calc_count(final_data, 0)"
   ]
  },
  {
   "cell_type": "markdown",
   "metadata": {},
   "source": [
    "### Using the Calc_count Function to Calculate Births Per Month"
   ]
  },
  {
   "cell_type": "code",
   "execution_count": 22,
   "metadata": {},
   "outputs": [
    {
     "data": {
      "text/plain": [
       "{1: 3232517,\n",
       " 2: 3018140,\n",
       " 3: 3322069,\n",
       " 4: 3185314,\n",
       " 5: 3350907,\n",
       " 6: 3296530,\n",
       " 7: 3498783,\n",
       " 8: 3525858,\n",
       " 9: 3439698,\n",
       " 10: 3378814,\n",
       " 11: 3171647,\n",
       " 12: 3301860}"
      ]
     },
     "execution_count": 22,
     "metadata": {},
     "output_type": "execute_result"
    }
   ],
   "source": [
    "calc_count(final_data, 1)"
   ]
  },
  {
   "cell_type": "markdown",
   "metadata": {},
   "source": [
    "### Using the Calc_count Function to Calculate Births Per Date of Month"
   ]
  },
  {
   "cell_type": "code",
   "execution_count": 23,
   "metadata": {},
   "outputs": [
    {
     "data": {
      "text/plain": [
       "{1: 1276557,\n",
       " 2: 1288739,\n",
       " 3: 1304499,\n",
       " 4: 1288154,\n",
       " 5: 1299953,\n",
       " 6: 1304474,\n",
       " 7: 1310459,\n",
       " 8: 1312297,\n",
       " 9: 1303292,\n",
       " 10: 1320764,\n",
       " 11: 1314361,\n",
       " 12: 1318437,\n",
       " 13: 1277684,\n",
       " 14: 1320153,\n",
       " 15: 1319171,\n",
       " 16: 1315192,\n",
       " 17: 1324953,\n",
       " 18: 1326855,\n",
       " 19: 1318727,\n",
       " 20: 1324821,\n",
       " 21: 1322897,\n",
       " 22: 1317381,\n",
       " 23: 1293290,\n",
       " 24: 1288083,\n",
       " 25: 1272116,\n",
       " 26: 1284796,\n",
       " 27: 1294395,\n",
       " 28: 1307685,\n",
       " 29: 1223161,\n",
       " 30: 1202095,\n",
       " 31: 746696}"
      ]
     },
     "execution_count": 23,
     "metadata": {},
     "output_type": "execute_result"
    }
   ],
   "source": [
    "calc_count(final_data, 2)"
   ]
  },
  {
   "cell_type": "markdown",
   "metadata": {},
   "source": [
    "### Using the Calc_count Function  to Calculate Births Per Day of Week"
   ]
  },
  {
   "cell_type": "code",
   "execution_count": 24,
   "metadata": {},
   "outputs": [
    {
     "data": {
      "text/plain": [
       "{1: 5789166,\n",
       " 2: 6446196,\n",
       " 3: 6322855,\n",
       " 4: 6288429,\n",
       " 5: 6233657,\n",
       " 6: 4562111,\n",
       " 7: 4079723}"
      ]
     },
     "execution_count": 24,
     "metadata": {},
     "output_type": "execute_result"
    }
   ],
   "source": [
    "calc_count(final_data, 3)"
   ]
  },
  {
   "cell_type": "markdown",
   "metadata": {},
   "source": [
    "### Creating a Function to Calculate the Minimum and Maximum Value in a Dictionary"
   ]
  },
  {
   "cell_type": "code",
   "execution_count": 25,
   "metadata": {
    "collapsed": true
   },
   "outputs": [],
   "source": [
    "def find_min_max(dictionary):                ### Function to calculate min or max of a dictionary\n",
    "    min = None                               ### initializing min and max variables to None\n",
    "    max = None\n",
    "    for key, value in dictionary.items():    ### Looping through dictionary keys and values\n",
    "        if min is None:                      ### assigning first value to min and max\n",
    "            min = value\n",
    "        if max is None:\n",
    "            max = value\n",
    "        if value < min:                      ### Evaluating each value and comparing to min and max current values\n",
    "            min = value                      ### If new value is less than min assign min the new value\n",
    "        if value > max:                      ### If new value is greater than max assign max the new value\n",
    "            max = value\n",
    "    return min, max"
   ]
  },
  {
   "cell_type": "markdown",
   "metadata": {},
   "source": [
    "### Printing Out Births Per Week"
   ]
  },
  {
   "cell_type": "code",
   "execution_count": 26,
   "metadata": {},
   "outputs": [
    {
     "data": {
      "text/plain": [
       "{1: 5789166,\n",
       " 2: 6446196,\n",
       " 3: 6322855,\n",
       " 4: 6288429,\n",
       " 5: 6233657,\n",
       " 6: 4562111,\n",
       " 7: 4079723}"
      ]
     },
     "execution_count": 26,
     "metadata": {},
     "output_type": "execute_result"
    }
   ],
   "source": [
    "calc_count(final_data, 3)"
   ]
  },
  {
   "cell_type": "markdown",
   "metadata": {},
   "source": [
    "### Using Find_min_max Function to Find The Min and Max Births Per Day From Calc_count Function"
   ]
  },
  {
   "cell_type": "code",
   "execution_count": 27,
   "metadata": {
    "collapsed": true
   },
   "outputs": [],
   "source": [
    "min, max = find_min_max(calc_count(final_data, 3))"
   ]
  },
  {
   "cell_type": "code",
   "execution_count": 28,
   "metadata": {},
   "outputs": [
    {
     "data": {
      "text/plain": [
       "4079723"
      ]
     },
     "execution_count": 28,
     "metadata": {},
     "output_type": "execute_result"
    }
   ],
   "source": [
    "min"
   ]
  },
  {
   "cell_type": "code",
   "execution_count": 29,
   "metadata": {},
   "outputs": [
    {
     "data": {
      "text/plain": [
       "6446196"
      ]
     },
     "execution_count": 29,
     "metadata": {},
     "output_type": "execute_result"
    }
   ],
   "source": [
    "max"
   ]
  },
  {
   "cell_type": "markdown",
   "metadata": {},
   "source": [
    "### Displaying First Few Lines of Final List Data"
   ]
  },
  {
   "cell_type": "code",
   "execution_count": 30,
   "metadata": {},
   "outputs": [
    {
     "data": {
      "text/plain": [
       "[[1994, 1, 1, 6, 8096],\n",
       " [1994, 1, 2, 7, 7772],\n",
       " [1994, 1, 3, 1, 10142],\n",
       " [1994, 1, 4, 2, 11248],\n",
       " [1994, 1, 5, 3, 11053]]"
      ]
     },
     "execution_count": 30,
     "metadata": {},
     "output_type": "execute_result"
    }
   ],
   "source": [
    "final_data[0:5]"
   ]
  },
  {
   "cell_type": "markdown",
   "metadata": {},
   "source": [
    "### Creating a Function That Compares Births Per Unit of Time Over Two Different Years"
   ]
  },
  {
   "cell_type": "code",
   "execution_count": 31,
   "metadata": {
    "collapsed": true
   },
   "outputs": [],
   "source": [
    "def year_2_year(lizt, year1, year2, column, time):    ### Input final_list, year1, year2, column, column value\n",
    "    \n",
    "    if column == 1:                                   ### If the unit of time is month and not day of week or day\n",
    "        month1 = 0                                    ### day of month, then the total births per month are summed\n",
    "        month2 = 0                                    ### \n",
    "        for row in lizt:\n",
    "            if ((row[0] == year1) and (row[1] == time)):\n",
    "                month1 += row[4]\n",
    "            if ((row[0] == year2) and (row[1] == time)):\n",
    "                month2 += row[4]\n",
    "        return month1, month2\n",
    "    \n",
    "    if column == 2:\n",
    "        month_day_1 = 0\n",
    "        month_day_2 = 0\n",
    "        for row in lizt:\n",
    "            if ((row[0] == year1) and (row[2] == time)):\n",
    "                month_day_1 += row[4]\n",
    "            if ((row[0] == year2) and (row[2] == time)):\n",
    "                month_day_2 += row[4]\n",
    "                \n",
    "        return month_day_1, month_day_2\n",
    "      \n",
    "    if column == 3:\n",
    "        weekday1 = 0\n",
    "        weekday2 = 0\n",
    "        for row in lizt:                                   ### Looping over list. Selecting births for matching unit of \n",
    "            if ((row[0] == year1) and (row[3] == time)):   ### time between the consecutive years and assigning births\n",
    "                weekday1 += row[4]                         ### to first_year and second_year\n",
    "            if ((row[0] == year2) and (row[3] == time)):\n",
    "                weekday2 += row[4] \n",
    "            \n",
    "        return weekday1, weekday2                         ### returning first_year, second_year as a tuple"
   ]
  },
  {
   "cell_type": "markdown",
   "metadata": {},
   "source": [
    "### Difference of Births from July 1995 and July 2003"
   ]
  },
  {
   "cell_type": "code",
   "execution_count": 32,
   "metadata": {
    "collapsed": true
   },
   "outputs": [],
   "source": [
    "july_1995, july_2003 = year_2_year(final_data, year1 = 1995, year2 = 2003, column = 1, time = 7 )"
   ]
  },
  {
   "cell_type": "code",
   "execution_count": 33,
   "metadata": {},
   "outputs": [
    {
     "data": {
      "text/plain": [
       "340873"
      ]
     },
     "execution_count": 33,
     "metadata": {},
     "output_type": "execute_result"
    }
   ],
   "source": [
    "july_1995"
   ]
  },
  {
   "cell_type": "code",
   "execution_count": 34,
   "metadata": {},
   "outputs": [
    {
     "data": {
      "text/plain": [
       "364226"
      ]
     },
     "execution_count": 34,
     "metadata": {},
     "output_type": "execute_result"
    }
   ],
   "source": [
    "july_2003"
   ]
  },
  {
   "cell_type": "markdown",
   "metadata": {},
   "source": [
    "### Difference of Births On Saturdays from 1998 Compared to 2001 "
   ]
  },
  {
   "cell_type": "code",
   "execution_count": 35,
   "metadata": {
    "collapsed": true
   },
   "outputs": [],
   "source": [
    "saturday_1998, saturday_2001 = year_2_year(final_data, year1 = 1998, year2 = 2001, column = 3, time = 6)"
   ]
  },
  {
   "cell_type": "code",
   "execution_count": 36,
   "metadata": {},
   "outputs": [
    {
     "data": {
      "text/plain": [
       "453776"
      ]
     },
     "execution_count": 36,
     "metadata": {},
     "output_type": "execute_result"
    }
   ],
   "source": [
    "saturday_1998"
   ]
  },
  {
   "cell_type": "code",
   "execution_count": 37,
   "metadata": {},
   "outputs": [
    {
     "data": {
      "text/plain": [
       "453928"
      ]
     },
     "execution_count": 37,
     "metadata": {},
     "output_type": "execute_result"
    }
   ],
   "source": [
    "saturday_2001"
   ]
  },
  {
   "cell_type": "markdown",
   "metadata": {},
   "source": [
    "### Difference of Births on Christmas Day from 1994 to 2000"
   ]
  },
  {
   "cell_type": "code",
   "execution_count": 38,
   "metadata": {
    "collapsed": true
   },
   "outputs": [],
   "source": [
    "xmas_1994, xmas_2000 = year_2_year(final_data, year1 = 1994, year2 = 2000, column = 2, time = 2)"
   ]
  },
  {
   "cell_type": "code",
   "execution_count": 39,
   "metadata": {},
   "outputs": [
    {
     "data": {
      "text/plain": [
       "128688"
      ]
     },
     "execution_count": 39,
     "metadata": {},
     "output_type": "execute_result"
    }
   ],
   "source": [
    "xmas_1994"
   ]
  },
  {
   "cell_type": "code",
   "execution_count": 40,
   "metadata": {},
   "outputs": [
    {
     "data": {
      "text/plain": [
       "127447"
      ]
     },
     "execution_count": 40,
     "metadata": {},
     "output_type": "execute_result"
    }
   ],
   "source": [
    "xmas_2000"
   ]
  },
  {
   "cell_type": "markdown",
   "metadata": {},
   "source": [
    "### Searching for US_birhths_2000-2015_SSA.csv file"
   ]
  },
  {
   "cell_type": "code",
   "execution_count": 41,
   "metadata": {},
   "outputs": [
    {
     "name": "stdout",
     "output_type": "stream",
     "text": [
      "\u001b[1m\u001b[32mBasics.ipynb\u001b[m\u001b[m                     \u001b[1m\u001b[32mUS_births_1994-2003_CDC_NCHS.csv\u001b[m\u001b[m\r\n",
      "Births.ipynb                     \u001b[1m\u001b[32mUS_births_2000-2014_SSA.csv\u001b[m\u001b[m\r\n",
      "README.md                        Untitled.ipynb\r\n",
      "U.S. Births Project.ipynb\r\n"
     ]
    }
   ],
   "source": [
    "!ls"
   ]
  },
  {
   "cell_type": "markdown",
   "metadata": {},
   "source": [
    "### Opening File and Importing Data"
   ]
  },
  {
   "cell_type": "code",
   "execution_count": 42,
   "metadata": {
    "collapsed": true
   },
   "outputs": [],
   "source": [
    "data2 = open('US_births_2000-2014_SSA.csv', 'r').read().split('\\r')[1:]"
   ]
  },
  {
   "cell_type": "code",
   "execution_count": 43,
   "metadata": {},
   "outputs": [
    {
     "data": {
      "text/plain": [
       "['2000,1,1,6,9083',\n",
       " '2000,1,2,7,8006',\n",
       " '2000,1,3,1,11363',\n",
       " '2000,1,4,2,13032',\n",
       " '2000,1,5,3,12558']"
      ]
     },
     "execution_count": 43,
     "metadata": {},
     "output_type": "execute_result"
    }
   ],
   "source": [
    "data2[0:5]"
   ]
  },
  {
   "cell_type": "markdown",
   "metadata": {},
   "source": [
    "### Looping Through Data and Separating on Commas into Rows"
   ]
  },
  {
   "cell_type": "code",
   "execution_count": 44,
   "metadata": {
    "collapsed": true
   },
   "outputs": [],
   "source": [
    "final_data_two = []\n",
    "\n",
    "for row in data2:\n",
    "    cells = row.split(',')\n",
    "    word_list = []\n",
    "    for cell in cells:\n",
    "        word_list.append(int(cell))\n",
    "    final_data_two.append(word_list)"
   ]
  },
  {
   "cell_type": "markdown",
   "metadata": {},
   "source": [
    "### Displaying the First Rows of Data"
   ]
  },
  {
   "cell_type": "code",
   "execution_count": 45,
   "metadata": {},
   "outputs": [
    {
     "data": {
      "text/plain": [
       "[[2000, 1, 1, 6, 9083],\n",
       " [2000, 1, 2, 7, 8006],\n",
       " [2000, 1, 3, 1, 11363],\n",
       " [2000, 1, 4, 2, 13032],\n",
       " [2000, 1, 5, 3, 12558]]"
      ]
     },
     "execution_count": 45,
     "metadata": {},
     "output_type": "execute_result"
    }
   ],
   "source": [
    "final_data_two[0:5]"
   ]
  },
  {
   "cell_type": "code",
   "execution_count": 46,
   "metadata": {},
   "outputs": [
    {
     "data": {
      "text/plain": [
       "[[1994, 1, 1, 6, 8096],\n",
       " [1994, 1, 2, 7, 7772],\n",
       " [1994, 1, 3, 1, 10142],\n",
       " [1994, 1, 4, 2, 11248],\n",
       " [1994, 1, 5, 3, 11053]]"
      ]
     },
     "execution_count": 46,
     "metadata": {},
     "output_type": "execute_result"
    }
   ],
   "source": [
    "final_data[0:5]"
   ]
  },
  {
   "cell_type": "markdown",
   "metadata": {},
   "source": [
    "### Trying to Combine Both Files Worth Of Data"
   ]
  },
  {
   "cell_type": "code",
   "execution_count": 54,
   "metadata": {
    "collapsed": true
   },
   "outputs": [],
   "source": [
    "first_rows = []\n",
    "middle_rows = []\n",
    "last_rows = []\n",
    "final_rows = []\n",
    "\n",
    "for index1, value1 in enumerate(final_data):\n",
    "    for index2, value2 in enumerate(final_data_two):\n",
    "        if value1[0] < value2[0]:\n",
    "            continue\n",
    "        if ((value1[0]==value2[0]) and (value1[1]==value2[1]) and (value1[2]==value2[2]) and (value1[3]==value2[3])):\n",
    "            total = value1[4] + value2[4]\n",
    "            new_row = [value1[0], value1[1], value1[2], value1[3], total]\n",
    "            middle_rows.append(new_row)\n",
    "        first_rows.append(value1)\n"
   ]
  },
  {
   "cell_type": "code",
   "execution_count": 55,
   "metadata": {},
   "outputs": [
    {
     "data": {
      "text/plain": [
       "[[2000, 1, 1, 6, 17926],\n",
       " [2000, 1, 2, 7, 15822],\n",
       " [2000, 1, 3, 1, 22486],\n",
       " [2000, 1, 4, 2, 25735],\n",
       " [2000, 1, 5, 3, 24798]]"
      ]
     },
     "execution_count": 55,
     "metadata": {},
     "output_type": "execute_result"
    }
   ],
   "source": [
    "middle_rows[0:5]"
   ]
  },
  {
   "cell_type": "code",
   "execution_count": 56,
   "metadata": {},
   "outputs": [],
   "source": [
    "final_rows.append(value1)\n",
    "if ((value1[0]==value2[0]) and (value1[1]==value2[1]) and (value1[2]==value2[2]) and (value1[3]==value2[3])):\n",
    "    total = value1[4] + value2[4]\n",
    "    new_row = [value1[0], value1[1], value1[2], value1[3], total]\n",
    "    final_rows.append(new_row)        "
   ]
  },
  {
   "cell_type": "code",
   "execution_count": 57,
   "metadata": {
    "collapsed": true
   },
   "outputs": [],
   "source": [
    "!git add \"U.S. Births Project.ipynb\""
   ]
  },
  {
   "cell_type": "code",
   "execution_count": 58,
   "metadata": {},
   "outputs": [
    {
     "name": "stdout",
     "output_type": "stream",
     "text": [
      "[master fa676b9] Combining Data Commit\r\n",
      " 1 file changed, 178 insertions(+), 100 deletions(-)\r\n"
     ]
    }
   ],
   "source": [
    "!git commit -m \"Combining Data Commit\""
   ]
  },
  {
   "cell_type": "code",
   "execution_count": 59,
   "metadata": {},
   "outputs": [
    {
     "name": "stdout",
     "output_type": "stream",
     "text": [
      "Counting objects: 3, done.\n",
      "Delta compression using up to 8 threads.\n",
      "Compressing objects: 100% (3/3), done.\n",
      "Writing objects: 100% (3/3), 1.45 KiB | 1.45 MiB/s, done.\n",
      "Total 3 (delta 2), reused 0 (delta 0)\n",
      "remote: Resolving deltas: 100% (2/2), completed with 2 local objects.\u001b[K\n",
      "To https://github.com/FightingInertia/Exporing-U.S.-Births-Project.git\n",
      "   5b82d6b..fa676b9  master -> master\n"
     ]
    }
   ],
   "source": [
    "!git push origin master"
   ]
  },
  {
   "cell_type": "code",
   "execution_count": null,
   "metadata": {
    "collapsed": true
   },
   "outputs": [],
   "source": []
  },
  {
   "cell_type": "code",
   "execution_count": null,
   "metadata": {
    "collapsed": true
   },
   "outputs": [],
   "source": []
  }
 ],
 "metadata": {
  "kernelspec": {
   "display_name": "Python 2",
   "language": "python",
   "name": "python2"
  },
  "language_info": {
   "codemirror_mode": {
    "name": "ipython",
    "version": 2
   },
   "file_extension": ".py",
   "mimetype": "text/x-python",
   "name": "python",
   "nbconvert_exporter": "python",
   "pygments_lexer": "ipython2",
   "version": "2.7.13"
  }
 },
 "nbformat": 4,
 "nbformat_minor": 2
}
